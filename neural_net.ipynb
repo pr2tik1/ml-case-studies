{
 "cells": [
  {
   "cell_type": "code",
   "execution_count": 14,
   "metadata": {},
   "outputs": [],
   "source": [
    "import random\n",
    "import numpy as np\n",
    "import pandas as pd\n",
    "import matplotlib.pyplot as plt\n",
    "from scipy.io import loadmat\n",
    "from scipy import optimize\n",
    "%matplotlib inline\n",
    "from sklearn.model_selection import train_test_split\n",
    "\n",
    "train = pd.read_csv('data/digit-recognizer/train.csv')\n",
    "test = pd.read_csv('data/digit-recognizer/test.csv')"
   ]
  },
  {
   "cell_type": "code",
   "execution_count": 15,
   "metadata": {},
   "outputs": [
    {
     "data": {
      "text/plain": [
       "((42000, 785), (28000, 784))"
      ]
     },
     "execution_count": 15,
     "metadata": {},
     "output_type": "execute_result"
    }
   ],
   "source": [
    "train.shape, test.shape"
   ]
  },
  {
   "cell_type": "markdown",
   "metadata": {},
   "source": [
    "## Data Preprocessing"
   ]
  },
  {
   "cell_type": "code",
   "execution_count": 16,
   "metadata": {},
   "outputs": [
    {
     "name": "stdout",
     "output_type": "stream",
     "text": [
      "Pickle Data for reference\n"
     ]
    }
   ],
   "source": [
    "'''\n",
    "import pickle\n",
    "import gzip\n",
    "def load_data():\n",
    "    f = gzip.open('/home/pratik/ml_workspace/Classification/NN/MNIST/dataset/mnist.pkl.gz', 'rb')\n",
    "    u = pickle._Unpickler(f)\n",
    "    u.encoding = 'latin1'\n",
    "    p = u.load()\n",
    "    f.close()\n",
    "    return p\n",
    "\n",
    "def load_data_wrapper():\n",
    "    tr_d, va_d, te_d = load_data()\n",
    "    training_inputs = [np.reshape(x, (784, 1)) for x in tr_d[0]]\n",
    "    training_results = [vectorized_result(y) for y in tr_d[1]]\n",
    "    training_data = list(zip(training_inputs, training_results))\n",
    "    validation_inputs = [np.reshape(x, (784, 1)) for x in va_d[0]]\n",
    "    validation_data = list(zip(validation_inputs, va_d[1]))\n",
    "    test_inputs = [np.reshape(x, (784, 1)) for x in te_d[0]]\n",
    "    test_data = list(zip(test_inputs, te_d[1]))\n",
    "    return (training_data, validation_data, test_data)\n",
    "\n",
    "training_data, validation_data, test_data = load_data_wrapper()\n",
    "'''\n",
    "print(\"Pickle Data for reference\")"
   ]
  },
  {
   "cell_type": "code",
   "execution_count": 17,
   "metadata": {},
   "outputs": [],
   "source": [
    "#Complete Training data \n",
    "y_tr = train['label'].values\n",
    "X_tr = train.drop(columns=['label']).values/255\n",
    "\n",
    "#Test data fot prediction\n",
    "X_test = test.values/255\n",
    "\n",
    "#Splitting data \n",
    "X_train = X_tr[:30000]\n",
    "y_train = y_tr[:30000]\n",
    "test_x = X_tr[30000:42000]\n",
    "test_y = y_tr[30000:42000]"
   ]
  },
  {
   "cell_type": "code",
   "execution_count": 18,
   "metadata": {},
   "outputs": [
    {
     "data": {
      "text/plain": [
       "((30000, 784), (30000,), (12000, 784), (12000,))"
      ]
     },
     "execution_count": 18,
     "metadata": {},
     "output_type": "execute_result"
    }
   ],
   "source": [
    "X_train.shape, y_train.shape, test_x.shape, test_y.shape"
   ]
  },
  {
   "cell_type": "code",
   "execution_count": 19,
   "metadata": {},
   "outputs": [],
   "source": [
    "def vectorized_result(j):\n",
    "    e = np.zeros((10, 1))\n",
    "    e[j] = 1.0\n",
    "    return e"
   ]
  },
  {
   "cell_type": "code",
   "execution_count": 20,
   "metadata": {},
   "outputs": [],
   "source": [
    "def process_data():\n",
    "    #Trainig Data\n",
    "    training_inputs = [np.reshape(x, (784, 1)) for x in X_train]\n",
    "    training_results = y_train#[vectorized_result(y) for y in train_y]\n",
    "    training_data = list(zip(training_inputs, training_results))\n",
    "    #Test Data\n",
    "    test_inputs = [np.reshape(x, (784, 1)) for x in test_x]\n",
    "    test_data = list(zip(test_inputs, test_y))\n",
    "    return (training_data, test_data)\n",
    "\n",
    "training_data , test_data = process_data() \n"
   ]
  },
  {
   "cell_type": "code",
   "execution_count": 21,
   "metadata": {},
   "outputs": [
    {
     "data": {
      "image/png": "[encoded data removed]",
      "text/plain": [
       "<Figure size 720x360 with 10 Axes>"
      ]
     },
     "metadata": {
      "needs_background": "light"
     },
     "output_type": "display_data"
    }
   ],
   "source": [
    "fig, axes = plt.subplots(2,5, figsize=(10,5))\n",
    "axes = axes.flatten()\n",
    "idx = np.random.randint(0,30000,size=10)\n",
    "for i in range(10):\n",
    "    axes[i].imshow(X_train[idx[i],:].reshape(28,28), cmap='gray')\n",
    "    axes[i].axis('off') # hide the axes ticks\n",
    "    axes[i].set_title(str(int(y_train[idx[i]])), color= 'black', fontsize=25)\n",
    "plt.show()"
   ]
  },
  {
   "cell_type": "code",
   "execution_count": 22,
   "metadata": {},
   "outputs": [
    {
     "name": "stdout",
     "output_type": "stream",
     "text": [
      "----Traininig data----\n",
      "Occurance of  0 = 2937\n",
      "Occurance of  1 = 3332\n",
      "Occurance of  2 = 3020\n",
      "Occurance of  3 = 3093\n",
      "Occurance of  4 = 2932\n",
      "Occurance of  5 = 2719\n",
      "Occurance of  6 = 2970\n",
      "Occurance of  7 = 3133\n",
      "Occurance of  8 = 2889\n",
      "Occurance of  9 = 2975\n"
     ]
    }
   ],
   "source": [
    "print(\"----Traininig data----\")\n",
    "y_value=np.zeros((1,10))\n",
    "for i in range (10):\n",
    "    print(\"Occurance of \",i,\"=\",np.count_nonzero(y_train==i))\n",
    "    y_value[0,i-1]= np.count_nonzero(y_train==i)"
   ]
  },
  {
   "cell_type": "code",
   "execution_count": 23,
   "metadata": {},
   "outputs": [
    {
     "data": {
      "text/plain": [
       "<BarContainer object of 10 artists>"
      ]
     },
     "execution_count": 23,
     "metadata": {},
     "output_type": "execute_result"
    },
    {
     "data": {
      "image/png": "[encoded data removed]",
      "text/plain": [
       "<Figure size 432x288 with 1 Axes>"
      ]
     },
     "metadata": {
      "needs_background": "light"
     },
     "output_type": "display_data"
    }
   ],
   "source": [
    "y_value=y_value.ravel()\n",
    "x_value=[0,1,2,3,4,5,6,7,8,9]\n",
    "\n",
    "plt.xlabel('label')\n",
    "plt.ylabel('count')\n",
    "plt.bar(x_value,y_value,0.7)"
   ]
  },
  {
   "cell_type": "markdown",
   "metadata": {},
   "source": [
    "# Neural Network model"
   ]
  },
  {
   "cell_type": "code",
   "execution_count": 24,
   "metadata": {},
   "outputs": [],
   "source": [
    "class NeuralNetwork(object):\n",
    "    \n",
    "    def __init__(self, sizes):\n",
    "        self.num_layers = len(sizes)\n",
    "        self.sizes = sizes\n",
    "        self.biases = [np.random.randn(y, 1) for y in sizes[1:]]\n",
    "        \n",
    "        self.weights = [np.random.randn(y, x) for x, y in zip(sizes[:-1], sizes[1:])]\n",
    "        \n",
    "    def sigmoid(self,x):\n",
    "        return 1/(1+np.exp(-x))\n",
    "    \n",
    "    def softmax(self,x):\n",
    "        expA = np.exp(x)\n",
    "        return expA / expA.sum()\n",
    "    \n",
    "    def sigmoidPrime(self,x):\n",
    "        return self.sigmoid(x)*(1-self.sigmoid(x))\n",
    "    \n",
    "    def forward(self, a):\n",
    "        for b, w in zip(self.biases, self.weights):\n",
    "            a = self.sigmoid(np.dot(w, a)+b)\n",
    "        return a\n",
    "    \n",
    "    def cost(self, y_hat, y):\n",
    "        m = y_hat.shape[1]\n",
    "        cost = -1 / m * (np.dot(y.T, np.log(y_hat)) + np.dot((1 - y).T, np.log(1 - y_hat)))\n",
    "        return np.squeeze(cost)\n",
    "    \n",
    "    def backprop(self, x, y):\n",
    "        b_up = [np.zeros(b.shape) for b in self.biases]\n",
    "        w_up = [np.zeros(w.shape) for w in self.weights]\n",
    "        \n",
    "        #Feed forward\n",
    "        activation = x\n",
    "        activations = [x] \n",
    "        zs = [] \n",
    "        for b, w in zip(self.biases, self.weights):\n",
    "            z = np.dot(w, activation)+b\n",
    "            zs.append(z)\n",
    "            activation = self.sigmoid(z)\n",
    "            activations.append(activation)\n",
    "        \n",
    "        #Backpass\n",
    "        delta = self.cost_derivative(activations[-1], y) * self.sigmoidPrime(zs[-1])\n",
    "        b_up[-1] = delta\n",
    "        w_up[-1] = np.dot(delta, activations[-2].transpose())\n",
    "        \n",
    "        #Updation terms\n",
    "        for l in range(2, self.num_layers):\n",
    "            z = zs[-l]\n",
    "            delta = np.dot(self.weights[-l+1].transpose(), delta) * self.sigmoidPrime(z)\n",
    "            b_up[-l] = delta\n",
    "            w_up[-l] = np.dot(delta, activations[-l-1].transpose())\n",
    "        \n",
    "        return (b_up, w_up)\n",
    "        \n",
    "    def cost_derivative(self, output_activations, y):\n",
    "        return (output_activations-y)\n",
    "    \n",
    "    def SGD(self, training_data, epochs, mini_batch_size, eta,test_data=None):\n",
    "        \n",
    "        if test_data: n_test = len(test_data)\n",
    "        \n",
    "        n = len(training_data)\n",
    "        for j in range(epochs):\n",
    "            random.shuffle(training_data)\n",
    "            mini_batches = [training_data[k:k+mini_batch_size] for k in range(0, n, mini_batch_size)]\n",
    "            for mini_batch in mini_batches:\n",
    "                self.update_mini_batch(mini_batch, eta)\n",
    "            if test_data:\n",
    "                print (\"Epoch {0}: {1} / {2}\".format(j, self.evaluate(test_data), n_test))\n",
    "            else:\n",
    "                print (\"Epoch {0} complete\".format(j))\n",
    "                \n",
    "    def update_mini_batch(self, mini_batch, eta):\n",
    "        \n",
    "        b_up = [np.zeros(b.shape) for b in self.biases]\n",
    "        w_up = [np.zeros(w.shape) for w in self.weights]\n",
    "        for x, y in mini_batch:\n",
    "            delta_b_up, delta_w_up = self.backprop(x, y)\n",
    "            b_up = [bu+dnb for bu, dnb in zip(b_up, delta_b_up)]\n",
    "            w_up = [wu+dnw for wu, dnw in zip(w_up, delta_w_up)]\n",
    "        \n",
    "        #Updating the weights and biases\n",
    "        self.weights = [w-(eta/len(mini_batch))*wu for w, wu in zip(self.weights, w_up)]\n",
    "        self.biases = [b-(eta/len(mini_batch))*bu for b, bu in zip(self.biases, b_up)] \n",
    "        \n",
    "    def evaluate(self, test_data):\n",
    "        test_results = [(np.argmax(self.forward(x)), y) for (x, y) in test_data]\n",
    "        \n",
    "        return sum(int(x == y) for (x, y) in test_results)    "
   ]
  },
  {
   "cell_type": "code",
   "execution_count": 25,
   "metadata": {},
   "outputs": [],
   "source": [
    "nn = NeuralNetwork([784,30,10])"
   ]
  },
  {
   "cell_type": "code",
   "execution_count": 26,
   "metadata": {},
   "outputs": [
    {
     "name": "stdout",
     "output_type": "stream",
     "text": [
      "Epoch 0: 1515 / 12000\n",
      "Epoch 1: 1484 / 12000\n",
      "Epoch 2: 1474 / 12000\n",
      "Epoch 3: 1458 / 12000\n",
      "Epoch 4: 1440 / 12000\n",
      "Epoch 5: 1453 / 12000\n",
      "Epoch 6: 1444 / 12000\n",
      "Epoch 7: 1428 / 12000\n",
      "Epoch 8: 1427 / 12000\n",
      "Epoch 9: 1424 / 12000\n",
      "Epoch 10: 1417 / 12000\n",
      "Epoch 11: 1416 / 12000\n",
      "Epoch 12: 1421 / 12000\n",
      "Epoch 13: 1423 / 12000\n",
      "Epoch 14: 1417 / 12000\n",
      "Epoch 15: 1423 / 12000\n",
      "Epoch 16: 1416 / 12000\n",
      "Epoch 17: 1410 / 12000\n",
      "Epoch 18: 1406 / 12000\n",
      "Epoch 19: 1397 / 12000\n",
      "Epoch 20: 1391 / 12000\n",
      "Epoch 21: 1387 / 12000\n",
      "Epoch 22: 1386 / 12000\n",
      "Epoch 23: 1381 / 12000\n",
      "Epoch 24: 1381 / 12000\n",
      "Epoch 25: 1380 / 12000\n",
      "Epoch 26: 1382 / 12000\n",
      "Epoch 27: 1378 / 12000\n",
      "Epoch 28: 1377 / 12000\n",
      "Epoch 29: 1380 / 12000\n"
     ]
    }
   ],
   "source": [
    "nn.SGD(training_data, 30, 10, 3, test_data=test_data)"
   ]
  }
 ],
 "metadata": {
  "kernelspec": {
   "display_name": "Python 3",
   "language": "python",
   "name": "python3"
  },
  "language_info": {
   "codemirror_mode": {
    "name": "ipython",
    "version": 3
   },
   "file_extension": ".py",
   "mimetype": "text/x-python",
   "name": "python",
   "nbconvert_exporter": "python",
   "pygments_lexer": "ipython3",
   "version": "3.7.4"
  }
 },
 "nbformat": 4,
 "nbformat_minor": 2
}
