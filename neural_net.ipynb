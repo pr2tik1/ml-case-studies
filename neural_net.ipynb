{
 "cells": [
  {
   "cell_type": "code",
   "execution_count": 1,
   "metadata": {},
   "outputs": [],
   "source": [
    "import random\n",
    "import numpy as np\n",
    "import pandas as pd\n",
    "import matplotlib.pyplot as plt\n",
    "from scipy.io import loadmat\n",
    "from scipy import optimize\n",
    "%matplotlib inline\n",
    "from sklearn.model_selection import train_test_split"
   ]
  },
  {
   "cell_type": "markdown",
   "metadata": {},
   "source": [
    "## Data Preprocessing"
   ]
  },
  {
   "cell_type": "code",
   "execution_count": 2,
   "metadata": {},
   "outputs": [],
   "source": [
    "def vectorized_result(j):\n",
    "    e = np.zeros((10, 1))\n",
    "    e[j] = 1.0\n",
    "    return e"
   ]
  },
  {
   "cell_type": "code",
   "execution_count": 3,
   "metadata": {},
   "outputs": [
    {
     "name": "stdout",
     "output_type": "stream",
     "text": [
      "Data for reference\n"
     ]
    }
   ],
   "source": [
    "'''\n",
    "train = pd.read_csv('data/digit-recognizer/train.csv')\n",
    "test = pd.read_csv('data/digit-recognizer/test.csv')\n",
    "\n",
    "#Complete Training data \n",
    "y_tr = train['label'].values\n",
    "X_tr = train.drop(columns=['label']).values/255\n",
    "\n",
    "#Test data fot prediction\n",
    "X_test = test.values/255\n",
    "\n",
    "#Splitting data \n",
    "X_train = X_tr[:30000]\n",
    "y_train = y_tr[:30000]\n",
    "test_x = X_tr[30000:42000]\n",
    "test_y = y_tr[30000:42000]\n",
    "\n",
    "def process_data():\n",
    "    #Trainig Data\n",
    "    training_inputs = [np.reshape(x, (784, 1)) for x in X_train]\n",
    "    training_results = y_train#[vectorized_result(y) for y in train_y]\n",
    "    training_data = list(zip(training_inputs, training_results))\n",
    "    #Test Data\n",
    "    test_inputs = [np.reshape(x, (784, 1)) for x in test_x]\n",
    "    test_data = list(zip(test_inputs, test_y))\n",
    "    return (training_data, test_data)\n",
    "\n",
    "training_data , test_data = process_data() \n",
    "'''\n",
    "print(\"Data for reference\")"
   ]
  },
  {
   "cell_type": "code",
   "execution_count": 4,
   "metadata": {},
   "outputs": [],
   "source": [
    "import pickle\n",
    "import gzip\n",
    "def load_data():\n",
    "    f = gzip.open('/home/pratik/ml_workspace/Machine_Learning/data/mnist.pkl.gz', 'rb')\n",
    "    u = pickle._Unpickler(f)\n",
    "    u.encoding = 'latin1'\n",
    "    p = u.load()\n",
    "    f.close()\n",
    "    return p\n",
    " \n",
    "def load_data_wrapper():\n",
    "    tr_d, va_d, te_d = load_data()\n",
    "    training_inputs = [np.reshape(x, (784, 1)) for x in tr_d[0]]\n",
    "    training_results = [vectorized_result(y) for y in tr_d[1]]\n",
    "    training_data = list(zip(training_inputs, training_results))\n",
    "    validation_inputs = [np.reshape(x, (784, 1)) for x in va_d[0]]\n",
    "    validation_data = list(zip(validation_inputs, va_d[1]))\n",
    "    test_inputs = [np.reshape(x, (784, 1)) for x in te_d[0]]\n",
    "    test_data = list(zip(test_inputs, te_d[1]))\n",
    "    return (training_data, validation_data, test_data)\n",
    "\n",
    "training_data, validation_data, test_data = load_data_wrapper()"
   ]
  },
  {
   "cell_type": "code",
   "execution_count": 5,
   "metadata": {},
   "outputs": [
    {
     "name": "stdout",
     "output_type": "stream",
     "text": [
      " \n"
     ]
    }
   ],
   "source": [
    "\"\"\"fig, axes = plt.subplots(2,5, figsize=(10,5))\n",
    "axes = axes.flatten()\n",
    "idx = np.random.randint(0,30000,size=10)\n",
    "for i in range(10):\n",
    "    axes[i].imshow(X_train[idx[i],:].reshape(28,28), cmap='gray')\n",
    "    axes[i].axis('off') # hide the axes ticks\n",
    "    axes[i].set_title(str(int(y_train[idx[i]])), color= 'black', fontsize=25)\n",
    "plt.show()\"\"\"\n",
    "print(\" \")"
   ]
  },
  {
   "cell_type": "code",
   "execution_count": 6,
   "metadata": {},
   "outputs": [
    {
     "name": "stdout",
     "output_type": "stream",
     "text": [
      " \n"
     ]
    }
   ],
   "source": [
    "\"\"\"print(\"----Traininig data----\")\n",
    "y_value=np.zeros((1,10))\n",
    "for i in range (10):\n",
    "    print(\"Occurance of \",i,\"=\",np.count_nonzero(y_train==i))\n",
    "    y_value[0,i-1]= np.count_nonzero(y_train==i)\"\"\"\n",
    "print(\" \")"
   ]
  },
  {
   "cell_type": "code",
   "execution_count": 7,
   "metadata": {},
   "outputs": [
    {
     "name": "stdout",
     "output_type": "stream",
     "text": [
      " \n"
     ]
    }
   ],
   "source": [
    "\"\"\"y_value=y_value.ravel()\n",
    "x_value=[0,1,2,3,4,5,6,7,8,9]\n",
    "\n",
    "plt.xlabel('label')\n",
    "plt.ylabel('count')\n",
    "plt.bar(x_value,y_value,0.7)\"\"\"\n",
    "print(\" \")"
   ]
  },
  {
   "cell_type": "markdown",
   "metadata": {},
   "source": [
    "# Neural Network model"
   ]
  },
  {
   "cell_type": "code",
   "execution_count": 8,
   "metadata": {},
   "outputs": [],
   "source": [
    "class QuadraticCost(object):\n",
    "\n",
    "    @staticmethod\n",
    "    def fn(a, y):\n",
    "        return 0.5*np.linalg.norm(a-y)**2\n",
    "\n",
    "    @staticmethod\n",
    "    def delta(z, a, y):\n",
    "        return (a-y) * sigmoid_prime(z)"
   ]
  },
  {
   "cell_type": "code",
   "execution_count": 9,
   "metadata": {},
   "outputs": [],
   "source": [
    "class CrossEntropyCost(object):\n",
    "\n",
    "    @staticmethod\n",
    "    def fn(a, y):\n",
    "        return np.sum(np.nan_to_num(-y*np.log(a)-(1-y)*np.log(1-a)))\n",
    "\n",
    "    @staticmethod\n",
    "    def delta(z, a, y):\n",
    "        return (a-y)"
   ]
  },
  {
   "cell_type": "code",
   "execution_count": 10,
   "metadata": {},
   "outputs": [],
   "source": [
    "class NeuralNetwork(object):\n",
    "    \n",
    "    def __init__(self, sizes,cost=CrossEntropyCost):\n",
    "        self.num_layers = len(sizes)\n",
    "        self.sizes = sizes\n",
    "        self.biases = [np.random.randn(y, 1) for y in self.sizes[1:]]\n",
    "        self.weights = [np.random.randn(y, x)/np.sqrt(x) \n",
    "                        for x, y in zip(self.sizes[:-1], self.sizes[1:])]\n",
    "        self.cost = cost\n",
    "        \n",
    "    def sigmoid(self,x):\n",
    "        s  = 1/(1+np.exp(-x))\n",
    "        return s\n",
    "\n",
    "    def sigmoidPrime(self,x):\n",
    "        return self.sigmoid(x)*(1-self.sigmoid(x))\n",
    "    \n",
    "    def forward(self, a):\n",
    "        for b, w in zip(self.biases, self.weights):\n",
    "            a = self.sigmoid(np.dot(w, a)+b)\n",
    "        return a\n",
    "    \n",
    "    def backprop(self, x, y):\n",
    "        b_up = [np.zeros(b.shape) for b in self.biases]\n",
    "        w_up = [np.zeros(w.shape) for w in self.weights]\n",
    "        \n",
    "        #Feed forward\n",
    "        activation = x\n",
    "        activations = [x] \n",
    "        zs = [] \n",
    "        for b, w in zip(self.biases, self.weights):\n",
    "            z = np.dot(w, activation)+b\n",
    "            zs.append(z)\n",
    "            activation = self.sigmoid(z)\n",
    "            activations.append(activation)\n",
    "        \n",
    "        #Backpass\n",
    "        delta = self.cost_derivative(activations[-1], y)*self.sigmoidPrime(zs[-1])\n",
    "        b_up[-1] = delta\n",
    "        w_up[-1] = np.dot(delta, activations[-2].transpose())\n",
    "        \n",
    "        #Updation terms\n",
    "        for l in range(2, self.num_layers):\n",
    "            z = zs[-l]\n",
    "            delta = np.dot(self.weights[-l+1].transpose(), delta)*self.sigmoidPrime(z)\n",
    "            b_up[-l] = delta\n",
    "            w_up[-l] = np.dot(delta, activations[-l-1].transpose())\n",
    "        \n",
    "        return (b_up, w_up)\n",
    "        \n",
    "    def cost_derivative(self, output_activations, y):\n",
    "        return (output_activations-y)\n",
    "    \n",
    "    def SGD(self, training_data, epochs, mini_batch_size, eta,lmbda = 0.0,\n",
    "            evaluation_data=None,\n",
    "            monitor_evaluation_cost=False,\n",
    "            monitor_evaluation_accuracy=False,\n",
    "            monitor_training_cost=False,\n",
    "            monitor_training_accuracy=False):\n",
    "        \n",
    "        if evaluation_data: n_data = len(evaluation_data)\n",
    "        n = len(training_data)\n",
    "        evaluation_cost, evaluation_accuracy = [], []\n",
    "        training_cost, training_accuracy = [], []\n",
    "        \n",
    "        for j in range(epochs):\n",
    "            random.shuffle(training_data)\n",
    "            mini_batches = [\n",
    "                training_data[k:k+mini_batch_size]\n",
    "                for k in range(0, n, mini_batch_size)]\n",
    "            for mini_batch in mini_batches:\n",
    "                self.update_mini_batch(\n",
    "                    mini_batch, eta, lmbda, len(training_data))\n",
    "            print (\"---------Epoch %s training complete---------\" % j)\n",
    "            if monitor_training_cost:\n",
    "                cost = self.total_cost(training_data, lmbda)\n",
    "                training_cost.append(cost)\n",
    "                print (\"Cost on training data: {}\".format(cost))\n",
    "            if monitor_training_accuracy:\n",
    "                accuracy = self.accuracy(training_data, convert=True)\n",
    "                training_accuracy.append(accuracy)\n",
    "                print (\"Accuracy on training data: {} / {}\".format(accuracy, n))\n",
    "            if monitor_evaluation_cost:\n",
    "                cost = self.total_cost(evaluation_data, lmbda, convert=True)\n",
    "                evaluation_cost.append(cost)\n",
    "                print (\"Cost on evaluation data: {}\".format(cost))\n",
    "            if monitor_evaluation_accuracy:\n",
    "                accuracy = self.accuracy(evaluation_data)\n",
    "                evaluation_accuracy.append(accuracy)\n",
    "                print (\"Accuracy on evaluation data: {} / {}\"\\\n",
    "                       .format(self.accuracy(evaluation_data), n_data))\n",
    "                \n",
    "        #return (evaluation_cost, evaluation_accuracy,\\\n",
    "        #                training_cost, training_accuracy)\n",
    "                \n",
    "    def update_mini_batch(self, mini_batch, eta, lmbda, n):\n",
    "        \n",
    "        b_up = [np.zeros(b.shape) for b in self.biases]\n",
    "        w_up = [np.zeros(w.shape) for w in self.weights]\n",
    "        for x, y in mini_batch:\n",
    "            delta_b_up, delta_w_up = self.backprop(x, y)\n",
    "            b_up = [bu+dnb for bu, dnb in zip(b_up, delta_b_up)]\n",
    "            w_up = [wu+dnw for wu, dnw in zip(w_up, delta_w_up)]\n",
    "        \n",
    "        #Updating the weights and biases\n",
    "        self.weights = [(1-eta*(lmbda/n))*w-(eta/len(mini_batch))*wu \n",
    "                        for w, wu in zip(self.weights, w_up)]\n",
    "        self.biases = [b-(eta/len(mini_batch))*bu \n",
    "                       for b, bu in zip(self.biases, b_up)] \n",
    "    \n",
    "    def accuracy(self, data, convert=False):\n",
    "        if convert:\n",
    "            results = [(np.argmax(self.forward(x)), np.argmax(y))\n",
    "                       for (x, y) in data]\n",
    "        else:\n",
    "            results = [(np.argmax(self.forward(x)), y)\n",
    "                        for (x, y) in data]\n",
    "        return sum(int(x == y) for (x, y) in results)\n",
    "    \n",
    "    def total_cost(self, data, lmbda, convert=False):\n",
    "        cost = 0.0\n",
    "        for x, y in data:\n",
    "            a = self.forward(x)\n",
    "            if convert: y = vectorized_result(y)\n",
    "            cost += self.cost.fn(a, y)/len(data)\n",
    "        cost += 0.5*(lmbda/len(data))*sum(\n",
    "            np.linalg.norm(w)**2 for w in self.weights)\n",
    "        return cost "
   ]
  },
  {
   "cell_type": "code",
   "execution_count": 11,
   "metadata": {},
   "outputs": [],
   "source": [
    "nn = NeuralNetwork([784,100,30,10])"
   ]
  },
  {
   "cell_type": "code",
   "execution_count": 13,
   "metadata": {},
   "outputs": [
    {
     "name": "stdout",
     "output_type": "stream",
     "text": [
      "---------Epoch 0 training complete---------\n",
      "Accuracy on evaluation data: 9582 / 10000\n",
      "---------Epoch 1 training complete---------\n",
      "Accuracy on evaluation data: 9715 / 10000\n",
      "---------Epoch 2 training complete---------\n",
      "Accuracy on evaluation data: 9705 / 10000\n",
      "---------Epoch 3 training complete---------\n",
      "Accuracy on evaluation data: 9750 / 10000\n",
      "---------Epoch 4 training complete---------\n",
      "Accuracy on evaluation data: 9739 / 10000\n",
      "---------Epoch 5 training complete---------\n",
      "Accuracy on evaluation data: 9649 / 10000\n",
      "---------Epoch 6 training complete---------\n",
      "Accuracy on evaluation data: 9742 / 10000\n",
      "---------Epoch 7 training complete---------\n",
      "Accuracy on evaluation data: 9716 / 10000\n",
      "---------Epoch 8 training complete---------\n",
      "Accuracy on evaluation data: 9731 / 10000\n",
      "---------Epoch 9 training complete---------\n",
      "Accuracy on evaluation data: 9749 / 10000\n"
     ]
    }
   ],
   "source": [
    "nn.SGD(training_data, 10, 10, 3.0, 1, evaluation_data=test_data,\n",
    "            monitor_evaluation_cost=False,\n",
    "            monitor_evaluation_accuracy=True,\n",
    "            monitor_training_cost=False,\n",
    "            monitor_training_accuracy=False)"
   ]
  }
 ],
 "metadata": {
  "kernelspec": {
   "display_name": "Python 3",
   "language": "python",
   "name": "python3"
  },
  "language_info": {
   "codemirror_mode": {
    "name": "ipython",
    "version": 3
   },
   "file_extension": ".py",
   "mimetype": "text/x-python",
   "name": "python",
   "nbconvert_exporter": "python",
   "pygments_lexer": "ipython3",
   "version": "3.7.4"
  }
 },
 "nbformat": 4,
 "nbformat_minor": 2
}
