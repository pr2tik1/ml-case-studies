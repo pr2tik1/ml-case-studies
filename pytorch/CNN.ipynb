{
 "cells": [
  {
   "cell_type": "code",
   "execution_count": 2,
   "metadata": {},
   "outputs": [],
   "source": [
    "import numpy as np\n",
    "\n",
    "import torch\n",
    "from torch.autograd import Variable\n",
    "from torch import optim\n",
    "\n",
    "from data_utils import load_mnist"
   ]
  },
  {
   "cell_type": "code",
   "execution_count": 8,
   "metadata": {},
   "outputs": [],
   "source": [
    "class ConvNet(torch.nn.Module):\n",
    "    def __init__(self, output_dim):\n",
    "        super(ConvNet, self).__init__()\n",
    "\n",
    "        self.conv = torch.nn.Sequential(\n",
    "                torch.nn.Conv2d(1, 10, kernel_size=5),\n",
    "                torch.nn.MaxPool2d(kernel_size=2),\n",
    "                torch.nn.ReLU(),\n",
    "                torch.nn.Conv2d(10, 20, kernel_size=5),\n",
    "                torch.nn.Dropout(),\n",
    "                torch.nn.MaxPool2d(kernel_size=2),\n",
    "                torch.nn.ReLU()\n",
    "        )\n",
    "        \n",
    "        self.fc = torch.nn.Sequential(\n",
    "                torch.nn.Linear(320, 50),\n",
    "                torch.nn.ReLU(),\n",
    "                torch.nn.Dropout(),\n",
    "                torch.nn.Linear(50, output_dim)\n",
    "        )\n",
    "        \n",
    "    def forward(self, x):\n",
    "        x = self.conv.forward(x)\n",
    "        x = x.view(-1, 320)\n",
    "        return self.fc.forward(x)"
   ]
  },
  {
   "cell_type": "markdown",
   "metadata": {},
   "source": [
    "### Training Function"
   ]
  },
  {
   "cell_type": "code",
   "execution_count": 4,
   "metadata": {},
   "outputs": [],
   "source": [
    "def train(model, loss, optimizer, x_val, y_val):\n",
    "    x = Variable(x_val, requires_grad=False)\n",
    "    y = Variable(y_val, requires_grad=False)\n",
    "\n",
    "    # Reset gradient\n",
    "    optimizer.zero_grad()\n",
    "\n",
    "    # Forward\n",
    "    fx = model.forward(x)\n",
    "    output = loss.forward(fx, y)\n",
    "\n",
    "    # Backward\n",
    "    output.backward()\n",
    "\n",
    "    # Update parameters\n",
    "    optimizer.step()\n",
    "\n",
    "    return output.item()\n"
   ]
  },
  {
   "cell_type": "markdown",
   "metadata": {},
   "source": [
    "### Prediction Function"
   ]
  },
  {
   "cell_type": "code",
   "execution_count": 5,
   "metadata": {},
   "outputs": [],
   "source": [
    "def predict(model, x_val):\n",
    "    x = Variable(x_val, requires_grad=False)\n",
    "    output = model.forward(x)\n",
    "    return output.data.numpy().argmax(axis=1)"
   ]
  },
  {
   "cell_type": "markdown",
   "metadata": {},
   "source": [
    "### Parameters"
   ]
  },
  {
   "cell_type": "code",
   "execution_count": 6,
   "metadata": {},
   "outputs": [
    {
     "name": "stderr",
     "output_type": "stream",
     "text": [
      "/opt/conda/conda-bld/pytorch_1587428190859/work/torch/csrc/utils/tensor_numpy.cpp:141: UserWarning: The given NumPy array is not writeable, and PyTorch does not support non-writeable tensors. This means you can write to the underlying (supposedly non-writeable) NumPy array using the tensor. You may want to copy the array to protect its data or make it writeable before converting it to a tensor. This type of warning will be suppressed for the rest of this program.\n"
     ]
    }
   ],
   "source": [
    "torch.manual_seed(42)\n",
    "trX, teX, trY, teY = load_mnist(onehot=False)\n",
    "trX = trX.reshape(-1, 1, 28, 28)\n",
    "teX = teX.reshape(-1, 1, 28, 28)\n",
    "\n",
    "trX = torch.from_numpy(trX).float()\n",
    "teX = torch.from_numpy(teX).float()\n",
    "trY = torch.from_numpy(trY).long()\n",
    "\n",
    "n_examples = len(trX)\n",
    "n_classes = 10\n",
    "model = ConvNet(output_dim=n_classes)\n",
    "loss = torch.nn.CrossEntropyLoss(reduction='mean')\n",
    "optimizer = optim.SGD(model.parameters(), lr=0.01, momentum=0.9)\n",
    "batch_size = 100"
   ]
  },
  {
   "cell_type": "code",
   "execution_count": 10,
   "metadata": {},
   "outputs": [
    {
     "data": {
      "text/plain": [
       "ConvNet(\n",
       "  (conv): Sequential(\n",
       "    (conv_1): Conv2d(1, 10, kernel_size=(5, 5), stride=(1, 1))\n",
       "    (maxpool_1): MaxPool2d(kernel_size=2, stride=2, padding=0, dilation=1, ceil_mode=False)\n",
       "    (relu_1): ReLU()\n",
       "    (conv_2): Conv2d(10, 20, kernel_size=(5, 5), stride=(1, 1))\n",
       "    (dropout_2): Dropout(p=0.5, inplace=False)\n",
       "    (maxpool_2): MaxPool2d(kernel_size=2, stride=2, padding=0, dilation=1, ceil_mode=False)\n",
       "    (relu_2): ReLU()\n",
       "  )\n",
       "  (fc): Sequential(\n",
       "    (fc1): Linear(in_features=320, out_features=50, bias=True)\n",
       "    (relu_3): ReLU()\n",
       "    (dropout_3): Dropout(p=0.5, inplace=False)\n",
       "    (fc2): Linear(in_features=50, out_features=10, bias=True)\n",
       "  )\n",
       ")"
      ]
     },
     "execution_count": 10,
     "metadata": {},
     "output_type": "execute_result"
    }
   ],
   "source": [
    "model"
   ]
  },
  {
   "cell_type": "markdown",
   "metadata": {},
   "source": [
    "# Training"
   ]
  },
  {
   "cell_type": "code",
   "execution_count": 7,
   "metadata": {},
   "outputs": [
    {
     "name": "stdout",
     "output_type": "stream",
     "text": [
      "Epoch 1, cost = 0.730928, acc = 90.86%\n",
      "Epoch 2, cost = 0.270943, acc = 93.40%\n",
      "Epoch 3, cost = 0.210942, acc = 94.62%\n",
      "Epoch 4, cost = 0.177429, acc = 95.24%\n",
      "Epoch 5, cost = 0.157559, acc = 96.19%\n",
      "Epoch 6, cost = 0.141248, acc = 96.19%\n",
      "Epoch 7, cost = 0.132196, acc = 96.64%\n",
      "Epoch 8, cost = 0.123311, acc = 96.54%\n",
      "Epoch 9, cost = 0.111277, acc = 97.19%\n",
      "Epoch 10, cost = 0.109723, acc = 96.95%\n",
      "Epoch 11, cost = 0.102575, acc = 97.41%\n",
      "Epoch 12, cost = 0.095494, acc = 97.29%\n",
      "Epoch 13, cost = 0.094187, acc = 97.16%\n",
      "Epoch 14, cost = 0.090923, acc = 97.13%\n",
      "Epoch 15, cost = 0.086524, acc = 97.39%\n",
      "Epoch 16, cost = 0.085599, acc = 97.27%\n",
      "Epoch 17, cost = 0.081234, acc = 97.45%\n",
      "Epoch 18, cost = 0.081445, acc = 97.56%\n",
      "Epoch 19, cost = 0.082314, acc = 97.72%\n",
      "Epoch 20, cost = 0.074394, acc = 97.57%\n"
     ]
    }
   ],
   "source": [
    "\n",
    "for i in range(20):\n",
    "    cost = 0.\n",
    "    num_batches = n_examples // batch_size\n",
    "    for k in range(num_batches):\n",
    "        start, end = k * batch_size, (k + 1) * batch_size\n",
    "        cost += train(model, loss, optimizer, trX[start:end], trY[start:end])\n",
    "    predY = predict(model, teX)\n",
    "    print(\"Epoch %d, cost = %f, acc = %.2f%%\"\n",
    "          % (i + 1, cost / num_batches, 100. * np.mean(predY == teY)))"
   ]
  }
 ],
 "metadata": {
  "kernelspec": {
   "display_name": "Python 3",
   "language": "python",
   "name": "python3"
  },
  "language_info": {
   "codemirror_mode": {
    "name": "ipython",
    "version": 3
   },
   "file_extension": ".py",
   "mimetype": "text/x-python",
   "name": "python",
   "nbconvert_exporter": "python",
   "pygments_lexer": "ipython3",
   "version": "3.7.4"
  }
 },
 "nbformat": 4,
 "nbformat_minor": 4
}
