{
 "cells": [
  {
   "cell_type": "markdown",
   "id": "indonesian-score",
   "metadata": {},
   "source": [
    "# Supervised Classification \n",
    "---\n",
    "\n",
    "In this notebook we would explore, supervised learning concepts, Exploratory Data Analysis, K-Nearest Neighbours and overfit/underfit.\n",
    "\n",
    "\n",
    "## 1. Supervised Learning: \n",
    "    \n",
    "> Predicting outputs by using lablelled data. We have predictor variables/features on which the model learns and a target variable which the model predicts. Tasks can be of two types: Classification/Regression within supervised learning.  "
   ]
  },
  {
   "cell_type": "markdown",
   "id": "excellent-samoa",
   "metadata": {},
   "source": [
    "## 2. Exploratory Data Analysis:\n",
    "> Can be done by following two types : \n",
    "\n",
    "        - Visual \n",
    "        - Numerical"
   ]
  },
  {
   "cell_type": "markdown",
   "id": "quantitative-nevada",
   "metadata": {
    "tags": []
   },
   "source": [
    "## 3. k-NN Model\n",
    "\n",
    "> \"k\" data-points (nearest neighbours) vote to label the unlabelled data. "
   ]
  },
  {
   "cell_type": "markdown",
   "id": "hazardous-kenya",
   "metadata": {},
   "source": [
    "#### 1. Load"
   ]
  },
  {
   "cell_type": "code",
   "execution_count": 6,
   "id": "healthy-appendix",
   "metadata": {},
   "outputs": [
    {
     "data": {
      "text/plain": [
       "KNeighborsClassifier(n_neighbors=6)"
      ]
     },
     "execution_count": 6,
     "metadata": {},
     "output_type": "execute_result"
    }
   ],
   "source": [
    "from sklearn.neighbors import KNeighborsClassifier\n",
    "knn = KNeighborsClassifier(n_neighbors=6)\n",
    "knn"
   ]
  },
  {
   "cell_type": "markdown",
   "id": "contained-disclosure",
   "metadata": {},
   "source": [
    "#### 2. Split"
   ]
  },
  {
   "cell_type": "code",
   "execution_count": null,
   "id": "suspended-closure",
   "metadata": {},
   "outputs": [],
   "source": [
    "from sklearn.model_selection import train_test_split\n",
    "\n",
    "X_train, X_test, y_train, y_test = train_test_split(X,y,test_size=0.3, random_state=21, stratify=y)"
   ]
  },
  {
   "cell_type": "markdown",
   "id": "related-hormone",
   "metadata": {},
   "source": [
    "#### 3. Fit"
   ]
  },
  {
   "cell_type": "code",
   "execution_count": null,
   "id": "unlikely-fiction",
   "metadata": {},
   "outputs": [],
   "source": [
    "knn.fit(X,y)"
   ]
  },
  {
   "cell_type": "markdown",
   "id": "differential-hungary",
   "metadata": {},
   "source": [
    "#### 4. Predict"
   ]
  },
  {
   "cell_type": "code",
   "execution_count": null,
   "id": "built-destruction",
   "metadata": {},
   "outputs": [],
   "source": [
    "y_pred = knn.predict(X)"
   ]
  },
  {
   "cell_type": "code",
   "execution_count": null,
   "id": "interested-guyana",
   "metadata": {},
   "outputs": [],
   "source": [
    "new_prediction = knn.predict(X_new)\n",
    "\n",
    "print(\"Prediction: {}\".format(new_prediction)) "
   ]
  },
  {
   "cell_type": "markdown",
   "id": "neural-tragedy",
   "metadata": {},
   "source": [
    "#### 5. Metrics"
   ]
  },
  {
   "cell_type": "code",
   "execution_count": null,
   "id": "worthy-fairy",
   "metadata": {},
   "outputs": [],
   "source": [
    "knn.score(X_test, y_test)"
   ]
  },
  {
   "cell_type": "markdown",
   "id": "polished-communist",
   "metadata": {},
   "source": [
    "# END"
   ]
  }
 ],
 "metadata": {
  "kernelspec": {
   "display_name": "Python 3",
   "language": "python",
   "name": "python3"
  },
  "language_info": {
   "codemirror_mode": {
    "name": "ipython",
    "version": 3
   },
   "file_extension": ".py",
   "mimetype": "text/x-python",
   "name": "python",
   "nbconvert_exporter": "python",
   "pygments_lexer": "ipython3",
   "version": "3.8.5"
  }
 },
 "nbformat": 4,
 "nbformat_minor": 5
}
