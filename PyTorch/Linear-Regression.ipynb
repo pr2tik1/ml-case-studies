{
 "cells": [
  {
   "cell_type": "code",
   "execution_count": 1,
   "metadata": {},
   "outputs": [],
   "source": [
    "import torch\n",
    "from torch.autograd import Variable\n",
    "from torch import optim"
   ]
  },
  {
   "cell_type": "markdown",
   "metadata": {},
   "source": [
    "## Defining Model"
   ]
  },
  {
   "cell_type": "code",
   "execution_count": 2,
   "metadata": {},
   "outputs": [],
   "source": [
    "def build_model():\n",
    "    '''\n",
    "    Builds linear model with no bias \n",
    "    '''\n",
    "    model = torch.nn.Sequential()\n",
    "    model.add_module(\"linear\", torch.nn.Linear(1,1, bias = False))\n",
    "    return model"
   ]
  },
  {
   "cell_type": "code",
   "execution_count": 3,
   "metadata": {},
   "outputs": [
    {
     "data": {
      "text/plain": [
       "Sequential(\n",
       "  (linear): Linear(in_features=1, out_features=1, bias=False)\n",
       ")"
      ]
     },
     "execution_count": 3,
     "metadata": {},
     "output_type": "execute_result"
    }
   ],
   "source": [
    "build_model()"
   ]
  },
  {
   "cell_type": "code",
   "execution_count": 4,
   "metadata": {},
   "outputs": [],
   "source": [
    "#Setting Parameters\n",
    "model = build_model()\n",
    "loss = torch.nn.MSELoss(reduction='mean')\n",
    "optimizer = optim.SGD(model.parameters(), lr=0.01, momentum=0.9)\n",
    "batch_size = 10"
   ]
  },
  {
   "cell_type": "markdown",
   "metadata": {},
   "source": [
    "## Training Function"
   ]
  },
  {
   "cell_type": "code",
   "execution_count": 5,
   "metadata": {},
   "outputs": [],
   "source": [
    "def train(model, loss, optimizer, x, y):\n",
    "    '''\n",
    "    Training Function \n",
    "    Input: Model, Loss Function, Optimization Function,\n",
    "            Input tensors(x), Output Tensors(y)\n",
    "    Output: Predicted tensor values in output variable\n",
    "    '''\n",
    "    x = Variable(x, requires_grad = False)\n",
    "    y = Variable(y, requires_grad = False)\n",
    "    \n",
    "    optimizer.zero_grad() #Reset gradient\n",
    "    \n",
    "    fwd = model.forward(x.view(len(x), 1)).squeeze() #Forward Prop\n",
    "    output = loss.forward(fwd, y)\n",
    "    \n",
    "    output.backward() #Backward Prop\n",
    "    \n",
    "    optimizer.step() #Update parameters\n",
    "    \n",
    "    return output.item()"
   ]
  },
  {
   "cell_type": "markdown",
   "metadata": {},
   "source": [
    "## Data"
   ]
  },
  {
   "cell_type": "code",
   "execution_count": 6,
   "metadata": {},
   "outputs": [],
   "source": [
    "torch.manual_seed(42)\n",
    "X = torch.linspace(-1, 1, 101)\n",
    "Y = 2 * X + torch.randn(X.size()) * 0.33"
   ]
  },
  {
   "cell_type": "code",
   "execution_count": 7,
   "metadata": {},
   "outputs": [
    {
     "data": {
      "text/plain": [
       "tensor([-1.0000, -0.9800, -0.9600, -0.9400, -0.9200, -0.9000, -0.8800, -0.8600,\n",
       "        -0.8400, -0.8200])"
      ]
     },
     "execution_count": 7,
     "metadata": {},
     "output_type": "execute_result"
    }
   ],
   "source": [
    "X[0:10]"
   ]
  },
  {
   "cell_type": "code",
   "execution_count": 8,
   "metadata": {},
   "outputs": [
    {
     "data": {
      "text/plain": [
       "tensor([-1.3641, -1.4692, -1.6228, -2.5748, -1.6161, -2.2074, -1.7742, -2.2495,\n",
       "        -1.9282, -1.0959])"
      ]
     },
     "execution_count": 8,
     "metadata": {},
     "output_type": "execute_result"
    }
   ],
   "source": [
    "Y[:10]"
   ]
  },
  {
   "cell_type": "markdown",
   "metadata": {},
   "source": [
    "Here the model is :<br>\n",
    "\n",
    "<center> Y = Weight * X + Bias </center> <br>\n",
    "\n",
    "where, *Weight* : 2 and *Bias* : random numbers between (-1/3,1/3)"
   ]
  },
  {
   "cell_type": "markdown",
   "metadata": {},
   "source": [
    "## Training"
   ]
  },
  {
   "cell_type": "code",
   "execution_count": 9,
   "metadata": {},
   "outputs": [
    {
     "name": "stdout",
     "output_type": "stream",
     "text": [
      "Epoch = 1, cost = 0.8334392964839935\n",
      "Epoch = 2, cost = 0.40854152143001554\n",
      "Epoch = 3, cost = 0.15445153154432772\n",
      "Epoch = 4, cost = 0.10608361847698689\n",
      "Epoch = 5, cost = 0.10965216681361198\n",
      "Epoch = 6, cost = 0.10969704426825047\n",
      "Epoch = 7, cost = 0.10695727020502091\n",
      "Epoch = 8, cost = 0.10555919148027897\n",
      "Epoch = 9, cost = 0.10524852983653546\n",
      "Epoch = 10, cost = 0.10518739111721516\n",
      "Epoch = 11, cost = 0.10514633357524872\n",
      "Epoch = 12, cost = 0.10512987487018108\n",
      "Epoch = 13, cost = 0.10513494089245796\n",
      "Epoch = 14, cost = 0.10514459758996964\n",
      "Epoch = 15, cost = 0.10515031963586807\n",
      "Epoch = 16, cost = 0.10515191480517387\n",
      "Epoch = 17, cost = 0.10515143796801567\n",
      "Epoch = 18, cost = 0.1051504746079445\n",
      "Epoch = 19, cost = 0.10514972098171711\n",
      "Epoch = 20, cost = 0.10514934696257114\n",
      "Epoch = 21, cost = 0.10514927096664906\n",
      "Epoch = 22, cost = 0.10514932163059712\n",
      "Epoch = 23, cost = 0.10514939576387405\n",
      "Epoch = 24, cost = 0.10514945015311242\n",
      "Epoch = 25, cost = 0.10514947585761547\n",
      "Epoch = 26, cost = 0.10514947474002838\n",
      "Epoch = 27, cost = 0.1051494762301445\n",
      "Epoch = 28, cost = 0.10514946654438972\n",
      "Epoch = 29, cost = 0.10514946319162846\n",
      "Epoch = 30, cost = 0.10514946170151233\n",
      "Epoch = 31, cost = 0.10514946058392524\n",
      "Epoch = 32, cost = 0.10514945946633816\n",
      "Epoch = 33, cost = 0.10514945946633816\n",
      "Epoch = 34, cost = 0.10514945946633816\n",
      "Epoch = 35, cost = 0.10514946132898331\n",
      "Epoch = 36, cost = 0.10514945909380913\n",
      "Epoch = 37, cost = 0.10514945909380913\n",
      "Epoch = 38, cost = 0.10514945909380913\n",
      "Epoch = 39, cost = 0.10514945909380913\n",
      "Epoch = 40, cost = 0.10514945909380913\n",
      "w = 1.98\n"
     ]
    }
   ],
   "source": [
    "train_loss = []\n",
    "for i in range(40):\n",
    "    cost = 0.0\n",
    "    num_batches = len(X)//batch_size\n",
    "    for k in range(num_batches):\n",
    "        start, end = k*batch_size, (k+1)*batch_size\n",
    "        cost += train(model, loss, optimizer, X[start:end], Y[start:end])\n",
    "    train_loss.append(cost/num_batches)\n",
    "    print(\"Epoch = %d, cost = %s\" % (i + 1, cost / num_batches))\n",
    "\n",
    "w = next(model.parameters()).data  # model has only one parameter\n",
    "print(\"w = %.2f\" % w.numpy()) "
   ]
  },
  {
   "cell_type": "code",
   "execution_count": 10,
   "metadata": {},
   "outputs": [
    {
     "data": {
      "text/plain": [
       "[<matplotlib.lines.Line2D at 0x7f8a468f3b90>]"
      ]
     },
     "execution_count": 10,
     "metadata": {},
     "output_type": "execute_result"
    },
    {
     "data": {
      "image/png": "[encoded data removed]",
      "text/plain": [
       "<Figure size 432x288 with 1 Axes>"
      ]
     },
     "metadata": {
      "needs_background": "light"
     },
     "output_type": "display_data"
    }
   ],
   "source": [
    "import matplotlib.pyplot as plt\n",
    "%matplotlib inline\n",
    "plt.plot(train_loss)"
   ]
  },
  {
   "cell_type": "markdown",
   "metadata": {},
   "source": [
    "# Conclusion\n",
    "The predicted value for linear model, is 1.98 which close to 2."
   ]
  }
 ],
 "metadata": {
  "kernelspec": {
   "display_name": "Python 3",
   "language": "python",
   "name": "python3"
  },
  "language_info": {
   "codemirror_mode": {
    "name": "ipython",
    "version": 3
   },
   "file_extension": ".py",
   "mimetype": "text/x-python",
   "name": "python",
   "nbconvert_exporter": "python",
   "pygments_lexer": "ipython3",
   "version": "3.7.4"
  }
 },
 "nbformat": 4,
 "nbformat_minor": 4
}
