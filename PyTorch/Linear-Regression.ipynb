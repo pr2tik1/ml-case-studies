{
 "cells": [
  {
   "cell_type": "code",
   "execution_count": 2,
   "metadata": {},
   "outputs": [],
   "source": [
    "import matplotlib.pyplot as plt\n",
    "%matplotlib inline\n",
    "\n",
    "import torch\n",
    "from torch.autograd import Variable\n",
    "from torch import optim"
   ]
  },
  {
   "cell_type": "markdown",
   "metadata": {},
   "source": [
    "## Defining Model"
   ]
  },
  {
   "cell_type": "code",
   "execution_count": 3,
   "metadata": {},
   "outputs": [],
   "source": [
    "def build_model():\n",
    "    '''\n",
    "    Builds linear model with no bias \n",
    "    '''\n",
    "    model = torch.nn.Sequential()\n",
    "    model.add_module(\"linear\", torch.nn.Linear(1,1, bias = False))\n",
    "    return model"
   ]
  },
  {
   "cell_type": "code",
   "execution_count": 4,
   "metadata": {},
   "outputs": [
    {
     "data": {
      "text/plain": [
       "Sequential(\n",
       "  (linear): Linear(in_features=1, out_features=1, bias=False)\n",
       ")"
      ]
     },
     "execution_count": 4,
     "metadata": {},
     "output_type": "execute_result"
    }
   ],
   "source": [
    "build_model()"
   ]
  },
  {
   "cell_type": "code",
   "execution_count": 5,
   "metadata": {},
   "outputs": [],
   "source": [
    "#Setting Parameters\n",
    "model = build_model()\n",
    "loss = torch.nn.MSELoss(reduction='mean')\n",
    "optimizer = optim.SGD(model.parameters(), lr=0.01, momentum=0.9)\n",
    "batch_size = 10"
   ]
  },
  {
   "cell_type": "markdown",
   "metadata": {},
   "source": [
    "## Training Function"
   ]
  },
  {
   "cell_type": "code",
   "execution_count": 6,
   "metadata": {},
   "outputs": [],
   "source": [
    "def train(model, loss, optimizer, x, y):\n",
    "    '''\n",
    "    Training Function \n",
    "    Input: Model, Loss Function, Optimization Function,\n",
    "            Input tensors(x), Output Tensors(y)\n",
    "    Output: Predicted tensor values in output variable\n",
    "    '''\n",
    "    x = Variable(x, requires_grad = False)\n",
    "    y = Variable(y, requires_grad = False)\n",
    "    \n",
    "    optimizer.zero_grad() #Reset gradient\n",
    "    \n",
    "    fwd = model.forward(x.view(len(x), 1)).squeeze() #Forward Prop\n",
    "    output = loss.forward(fwd, y)\n",
    "    \n",
    "    output.backward() #Backward Prop\n",
    "    \n",
    "    optimizer.step() #Update parameters\n",
    "    \n",
    "    return output.item()"
   ]
  },
  {
   "cell_type": "markdown",
   "metadata": {},
   "source": [
    "## Data"
   ]
  },
  {
   "cell_type": "code",
   "execution_count": 7,
   "metadata": {},
   "outputs": [],
   "source": [
    "torch.manual_seed(42)\n",
    "X = torch.linspace(-1, 1, 101)\n",
    "Y = 2 * X + torch.randn(X.size()) * 0.33"
   ]
  },
  {
   "cell_type": "code",
   "execution_count": 8,
   "metadata": {},
   "outputs": [
    {
     "data": {
      "text/plain": [
       "tensor([-1.0000, -0.9800, -0.9600, -0.9400, -0.9200, -0.9000, -0.8800, -0.8600,\n",
       "        -0.8400, -0.8200])"
      ]
     },
     "execution_count": 8,
     "metadata": {},
     "output_type": "execute_result"
    }
   ],
   "source": [
    "X[0:10]"
   ]
  },
  {
   "cell_type": "code",
   "execution_count": 9,
   "metadata": {},
   "outputs": [
    {
     "data": {
      "text/plain": [
       "tensor([-1.3641, -1.4692, -1.6228, -2.5748, -1.6161, -2.2074, -1.7742, -2.2495,\n",
       "        -1.9282, -1.0959])"
      ]
     },
     "execution_count": 9,
     "metadata": {},
     "output_type": "execute_result"
    }
   ],
   "source": [
    "Y[:10]"
   ]
  },
  {
   "cell_type": "markdown",
   "metadata": {},
   "source": [
    "Here the model is :<br>\n",
    "\n",
    "<center> Y = Weight * X + Bias </center> <br>\n",
    "\n",
    "where, *Weight* : 2 and *Bias* : random numbers between (-1/3,1/3)"
   ]
  },
  {
   "cell_type": "markdown",
   "metadata": {},
   "source": [
    "## Training"
   ]
  },
  {
   "cell_type": "code",
   "execution_count": 10,
   "metadata": {},
   "outputs": [
    {
     "name": "stdout",
     "output_type": "stream",
     "text": [
      "Epoch = 1, cost = 0.6954060278832912\n",
      "Epoch = 2, cost = 0.35088823884725573\n",
      "Epoch = 3, cost = 0.1448952380567789\n",
      "Epoch = 4, cost = 0.10578233636915683\n",
      "Epoch = 5, cost = 0.1087773960083723\n",
      "Epoch = 6, cost = 0.10886246897280216\n",
      "Epoch = 7, cost = 0.10664680749177932\n",
      "Epoch = 8, cost = 0.10550175905227661\n",
      "Epoch = 9, cost = 0.10523757748305798\n",
      "Epoch = 10, cost = 0.1051805555820465\n",
      "Epoch = 11, cost = 0.10514454953372479\n",
      "Epoch = 12, cost = 0.10513122752308846\n",
      "Epoch = 13, cost = 0.10513632856309414\n",
      "Epoch = 14, cost = 0.10514506362378598\n",
      "Epoch = 15, cost = 0.10515020899474621\n",
      "Epoch = 16, cost = 0.10515165701508522\n",
      "Epoch = 17, cost = 0.10515123829245568\n",
      "Epoch = 18, cost = 0.10515037178993225\n",
      "Epoch = 19, cost = 0.10514970310032368\n",
      "Epoch = 20, cost = 0.10514936745166778\n",
      "Epoch = 21, cost = 0.10514929071068764\n",
      "Epoch = 22, cost = 0.10514933243393898\n",
      "Epoch = 23, cost = 0.10514940470457076\n",
      "Epoch = 24, cost = 0.10514945611357689\n",
      "Epoch = 25, cost = 0.1051494762301445\n",
      "Epoch = 26, cost = 0.10514947809278966\n",
      "Epoch = 27, cost = 0.10514947101473808\n",
      "Epoch = 28, cost = 0.10514946356415748\n",
      "Epoch = 29, cost = 0.10514946468174458\n",
      "Epoch = 30, cost = 0.10514946170151233\n",
      "Epoch = 31, cost = 0.10514945909380913\n",
      "Epoch = 32, cost = 0.10514945909380913\n",
      "Epoch = 33, cost = 0.10514945909380913\n",
      "Epoch = 34, cost = 0.10514945909380913\n",
      "Epoch = 35, cost = 0.10514945909380913\n",
      "Epoch = 36, cost = 0.10514945909380913\n",
      "Epoch = 37, cost = 0.10514945909380913\n",
      "Epoch = 38, cost = 0.10514945909380913\n",
      "Epoch = 39, cost = 0.10514945909380913\n",
      "Epoch = 40, cost = 0.10514945909380913\n",
      "w = 1.98\n"
     ]
    }
   ],
   "source": [
    "train_loss = []\n",
    "for i in range(40):\n",
    "    cost = 0.0\n",
    "    num_batches = len(X)//batch_size\n",
    "    for k in range(num_batches):\n",
    "        start, end = k*batch_size, (k+1)*batch_size\n",
    "        cost += train(model, loss, optimizer, X[start:end], Y[start:end])\n",
    "    train_loss.append(cost/num_batches)\n",
    "    print(\"Epoch = %d, cost = %s\" % (i + 1, cost / num_batches))\n",
    "\n",
    "w = next(model.parameters()).data  # model has only one parameter\n",
    "print(\"w = %.2f\" % w.numpy()) "
   ]
  },
  {
   "cell_type": "code",
   "execution_count": 11,
   "metadata": {},
   "outputs": [
    {
     "data": {
      "text/plain": [
       "Text(0.5, 1.0, 'Loss Curve')"
      ]
     },
     "execution_count": 11,
     "metadata": {},
     "output_type": "execute_result"
    },
    {
     "data": {
      "image/png": "[encoded data removed]",
      "text/plain": [
       "<Figure size 432x288 with 1 Axes>"
      ]
     },
     "metadata": {
      "needs_background": "light"
     },
     "output_type": "display_data"
    }
   ],
   "source": [
    "plt.plot(train_loss)\n",
    "plt.xlabel('Iterations')\n",
    "plt.ylabel('Loss')\n",
    "plt.title('Loss Curve')"
   ]
  },
  {
   "cell_type": "markdown",
   "metadata": {},
   "source": [
    "# Conclusion\n",
    "The predicted value for linear model, is 1.98 which close to 2."
   ]
  }
 ],
 "metadata": {
  "kernelspec": {
   "display_name": "Python 3",
   "language": "python",
   "name": "python3"
  },
  "language_info": {
   "codemirror_mode": {
    "name": "ipython",
    "version": 3
   },
   "file_extension": ".py",
   "mimetype": "text/x-python",
   "name": "python",
   "nbconvert_exporter": "python",
   "pygments_lexer": "ipython3",
   "version": "3.7.4"
  }
 },
 "nbformat": 4,
 "nbformat_minor": 4
}
