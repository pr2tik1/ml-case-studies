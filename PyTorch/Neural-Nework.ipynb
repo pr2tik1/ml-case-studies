{
 "cells": [
  {
   "cell_type": "markdown",
   "metadata": {},
   "source": [
    "# Multi Layered Perceptron"
   ]
  },
  {
   "cell_type": "code",
   "execution_count": 2,
   "metadata": {},
   "outputs": [],
   "source": [
    "import numpy as np\n",
    "\n",
    "import torch\n",
    "import torch.nn as nn\n",
    "from torch.autograd import Variable\n",
    "from torch import optim \n",
    "\n",
    "from data_utils import load_mnist"
   ]
  },
  {
   "cell_type": "markdown",
   "metadata": {},
   "source": [
    "### Defining Model "
   ]
  },
  {
   "cell_type": "code",
   "execution_count": 3,
   "metadata": {},
   "outputs": [],
   "source": [
    "def build_model(input_dim, output_dim):\n",
    "    '''\n",
    "    Input: network dimensions of input and output\n",
    "    Output : model\n",
    "    '''\n",
    "    model = nn.Sequential(\n",
    "                nn.Linear(input_dim, 512, bias = False),\n",
    "                nn.ReLU(),\n",
    "                nn.Dropout(),\n",
    "                nn.Linear(512, 512, bias = False),\n",
    "                nn.ReLU(),\n",
    "                nn.Dropout(),\n",
    "                nn.Linear(512, output_dim, bias = False)\n",
    "    )\n",
    "    return model"
   ]
  },
  {
   "cell_type": "markdown",
   "metadata": {},
   "source": [
    "### Training Function"
   ]
  },
  {
   "cell_type": "code",
   "execution_count": 4,
   "metadata": {},
   "outputs": [],
   "source": [
    "def train(model, loss, optimizer, x_val, y_val):\n",
    "    x = Variable(x_val, requires_grad=False)\n",
    "    y = Variable(y_val, requires_grad=False)\n",
    "\n",
    "    # Reset gradient\n",
    "    optimizer.zero_grad()\n",
    "\n",
    "    # Forward\n",
    "    fx = model.forward(x)\n",
    "    output = loss.forward(fx, y)\n",
    "\n",
    "    # Backward\n",
    "    output.backward()\n",
    "\n",
    "    # Update parameters\n",
    "    optimizer.step()\n",
    "\n",
    "    return output"
   ]
  },
  {
   "cell_type": "markdown",
   "metadata": {},
   "source": [
    "### Prediction Function"
   ]
  },
  {
   "cell_type": "code",
   "execution_count": 5,
   "metadata": {},
   "outputs": [],
   "source": [
    "def predict(model, x_val):\n",
    "    x = Variable(x_val, requires_grad=False)\n",
    "    output = model.forward(x)\n",
    "    return output.data.numpy().argmax(axis=1)"
   ]
  },
  {
   "cell_type": "markdown",
   "metadata": {},
   "source": [
    "### Training"
   ]
  },
  {
   "cell_type": "code",
   "execution_count": 6,
   "metadata": {},
   "outputs": [
    {
     "name": "stderr",
     "output_type": "stream",
     "text": [
      "/opt/conda/conda-bld/pytorch_1587428190859/work/torch/csrc/utils/tensor_numpy.cpp:141: UserWarning: The given NumPy array is not writeable, and PyTorch does not support non-writeable tensors. This means you can write to the underlying (supposedly non-writeable) NumPy array using the tensor. You may want to copy the array to protect its data or make it writeable before converting it to a tensor. This type of warning will be suppressed for the rest of this program.\n"
     ]
    }
   ],
   "source": [
    "torch.manual_seed(42)\n",
    "trX, teX, trY, teY = load_mnist(onehot=False)\n",
    "trX = torch.from_numpy(trX).float()\n",
    "teX = torch.from_numpy(teX).float()\n",
    "trY = torch.from_numpy(trY).long()"
   ]
  },
  {
   "cell_type": "code",
   "execution_count": 7,
   "metadata": {},
   "outputs": [],
   "source": [
    "n_examples, n_features = trX.size()\n",
    "n_classes = 10\n",
    "model = build_model(n_features, n_classes)\n",
    "loss = torch.nn.CrossEntropyLoss(reduction='mean')\n",
    "optimizer = optim.Adam(model.parameters())\n",
    "batch_size = 100"
   ]
  },
  {
   "cell_type": "code",
   "execution_count": 8,
   "metadata": {},
   "outputs": [
    {
     "data": {
      "text/plain": [
       "Sequential(\n",
       "  (0): Linear(in_features=784, out_features=512, bias=False)\n",
       "  (1): ReLU()\n",
       "  (2): Dropout(p=0.5, inplace=False)\n",
       "  (3): Linear(in_features=512, out_features=512, bias=False)\n",
       "  (4): ReLU()\n",
       "  (5): Dropout(p=0.5, inplace=False)\n",
       "  (6): Linear(in_features=512, out_features=10, bias=False)\n",
       ")"
      ]
     },
     "execution_count": 8,
     "metadata": {},
     "output_type": "execute_result"
    }
   ],
   "source": [
    "model"
   ]
  },
  {
   "cell_type": "code",
   "execution_count": 7,
   "metadata": {},
   "outputs": [
    {
     "name": "stdout",
     "output_type": "stream",
     "text": [
      "Epoch 1, cost = 0.352064, acc = 94.13%\n",
      "Epoch 2, cost = 0.164834, acc = 95.27%\n",
      "Epoch 3, cost = 0.130883, acc = 95.71%\n",
      "Epoch 4, cost = 0.109014, acc = 96.02%\n",
      "Epoch 5, cost = 0.095283, acc = 96.22%\n",
      "Epoch 6, cost = 0.086254, acc = 96.44%\n",
      "Epoch 7, cost = 0.082451, acc = 96.72%\n",
      "Epoch 8, cost = 0.076097, acc = 96.61%\n",
      "Epoch 9, cost = 0.070434, acc = 96.76%\n",
      "Epoch 10, cost = 0.068656, acc = 96.76%\n",
      "Epoch 11, cost = 0.065097, acc = 96.98%\n",
      "Epoch 12, cost = 0.059400, acc = 96.64%\n",
      "Epoch 13, cost = 0.059059, acc = 96.93%\n",
      "Epoch 14, cost = 0.057031, acc = 97.08%\n",
      "Epoch 15, cost = 0.056099, acc = 96.93%\n",
      "Epoch 16, cost = 0.055068, acc = 96.98%\n",
      "Epoch 17, cost = 0.049694, acc = 96.81%\n",
      "Epoch 18, cost = 0.052037, acc = 97.00%\n",
      "Epoch 19, cost = 0.051153, acc = 97.09%\n",
      "Epoch 20, cost = 0.047949, acc = 97.20%\n",
      "Epoch 21, cost = 0.050635, acc = 97.26%\n",
      "Epoch 22, cost = 0.045552, acc = 97.17%\n",
      "Epoch 23, cost = 0.047034, acc = 97.22%\n",
      "Epoch 24, cost = 0.046436, acc = 97.09%\n",
      "Epoch 25, cost = 0.040770, acc = 97.36%\n",
      "Epoch 26, cost = 0.045925, acc = 97.22%\n",
      "Epoch 27, cost = 0.044592, acc = 97.46%\n",
      "Epoch 28, cost = 0.041057, acc = 97.34%\n",
      "Epoch 29, cost = 0.042664, acc = 96.96%\n",
      "Epoch 30, cost = 0.043483, acc = 97.13%\n",
      "Epoch 31, cost = 0.041810, acc = 97.11%\n",
      "Epoch 32, cost = 0.040130, acc = 97.17%\n",
      "Epoch 33, cost = 0.041133, acc = 97.41%\n",
      "Epoch 34, cost = 0.040620, acc = 97.11%\n",
      "Epoch 35, cost = 0.039087, acc = 97.25%\n",
      "Epoch 36, cost = 0.039422, acc = 97.37%\n",
      "Epoch 37, cost = 0.042420, acc = 97.25%\n",
      "Epoch 38, cost = 0.036203, acc = 97.12%\n",
      "Epoch 39, cost = 0.038522, acc = 97.52%\n",
      "Epoch 40, cost = 0.035916, acc = 97.01%\n",
      "Epoch 41, cost = 0.036241, acc = 97.25%\n",
      "Epoch 42, cost = 0.036607, acc = 97.17%\n",
      "Epoch 43, cost = 0.037262, acc = 97.10%\n",
      "Epoch 44, cost = 0.033696, acc = 97.10%\n",
      "Epoch 45, cost = 0.039306, acc = 97.41%\n",
      "Epoch 46, cost = 0.032236, acc = 97.50%\n",
      "Epoch 47, cost = 0.036626, acc = 97.32%\n",
      "Epoch 48, cost = 0.033578, acc = 97.06%\n",
      "Epoch 49, cost = 0.035821, acc = 97.48%\n",
      "Epoch 50, cost = 0.035595, acc = 97.50%\n"
     ]
    }
   ],
   "source": [
    "train_loss = []\n",
    "for i in range(50):\n",
    "    cost = 0.\n",
    "    num_batches = n_examples // batch_size\n",
    "    for k in range(num_batches):\n",
    "        start, end = k * batch_size, (k + 1) * batch_size\n",
    "        cost += train(model, loss, optimizer, trX[start:end], trY[start:end])\n",
    "    predY = predict(model, teX)\n",
    "    train_loss.append(cost/num_batches)\n",
    "    print(\"Epoch %d, cost = %f, acc = %.2f%%\"\n",
    "          % (i + 1, cost / num_batches, 100. * np.mean(predY == teY)))"
   ]
  }
 ],
 "metadata": {
  "kernelspec": {
   "display_name": "Python 3",
   "language": "python",
   "name": "python3"
  },
  "language_info": {
   "codemirror_mode": {
    "name": "ipython",
    "version": 3
   },
   "file_extension": ".py",
   "mimetype": "text/x-python",
   "name": "python",
   "nbconvert_exporter": "python",
   "pygments_lexer": "ipython3",
   "version": "3.7.4"
  }
 },
 "nbformat": 4,
 "nbformat_minor": 4
}
