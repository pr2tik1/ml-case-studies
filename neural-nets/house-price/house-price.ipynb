{
 "cells": [
  {
   "cell_type": "code",
   "execution_count": 1,
   "metadata": {},
   "outputs": [],
   "source": [
    "import numpy as np\n",
    "import pandas as pd\n",
    "import torch\n",
    "import matplotlib.pyplot as plt\n",
    "from torch import nn, optim\n",
    "from torch.utils.data import DataLoader\n",
    "import torch.nn.functional as F\n",
    "from sklearn.model_selection import train_test_split\n",
    "from sklearn.preprocessing import MinMaxScaler, StandardScaler\n",
    "%matplotlib inline\n",
    "\n",
    "import warnings\n",
    "warnings.simplefilter(\"ignore\")"
   ]
  },
  {
   "cell_type": "markdown",
   "metadata": {},
   "source": [
    "## Data"
   ]
  },
  {
   "cell_type": "code",
   "execution_count": 2,
   "metadata": {},
   "outputs": [],
   "source": [
    "data_train = pd.read_csv('data/train.csv')\n",
    "X_test = pd.read_csv('data/test.csv')\n",
    "data = data_train.append(X_test, ignore_index=True, sort=False)"
   ]
  },
  {
   "cell_type": "code",
   "execution_count": 3,
   "metadata": {},
   "outputs": [],
   "source": [
    "data = data.drop(columns = ['PoolQC', 'MiscFeature','Alley','Fence','FireplaceQu'])"
   ]
  },
  {
   "cell_type": "code",
   "execution_count": 4,
   "metadata": {},
   "outputs": [
    {
     "data": {
      "text/html": [
       "<div>\n",
       "<style scoped>\n",
       "    .dataframe tbody tr th:only-of-type {\n",
       "        vertical-align: middle;\n",
       "    }\n",
       "\n",
       "    .dataframe tbody tr th {\n",
       "        vertical-align: top;\n",
       "    }\n",
       "\n",
       "    .dataframe thead th {\n",
       "        text-align: right;\n",
       "    }\n",
       "</style>\n",
       "<table border=\"1\" class=\"dataframe\">\n",
       "  <thead>\n",
       "    <tr style=\"text-align: right;\">\n",
       "      <th></th>\n",
       "      <th>MSSubClass</th>\n",
       "      <th>LotFrontage</th>\n",
       "      <th>LotArea</th>\n",
       "      <th>OverallQual</th>\n",
       "      <th>OverallCond</th>\n",
       "      <th>YearBuilt</th>\n",
       "      <th>YearRemodAdd</th>\n",
       "      <th>MasVnrArea</th>\n",
       "      <th>BsmtFinSF1</th>\n",
       "      <th>BsmtFinSF2</th>\n",
       "      <th>...</th>\n",
       "      <th>SaleType_New</th>\n",
       "      <th>SaleType_Oth</th>\n",
       "      <th>SaleType_WD</th>\n",
       "      <th>SaleType_nan</th>\n",
       "      <th>SaleCondition_AdjLand</th>\n",
       "      <th>SaleCondition_Alloca</th>\n",
       "      <th>SaleCondition_Family</th>\n",
       "      <th>SaleCondition_Normal</th>\n",
       "      <th>SaleCondition_Partial</th>\n",
       "      <th>SaleCondition_nan</th>\n",
       "    </tr>\n",
       "  </thead>\n",
       "  <tbody>\n",
       "    <tr>\n",
       "      <th>0</th>\n",
       "      <td>60</td>\n",
       "      <td>65.0</td>\n",
       "      <td>8450</td>\n",
       "      <td>7</td>\n",
       "      <td>5</td>\n",
       "      <td>2003</td>\n",
       "      <td>2003</td>\n",
       "      <td>196.0</td>\n",
       "      <td>706.0</td>\n",
       "      <td>0.0</td>\n",
       "      <td>...</td>\n",
       "      <td>0</td>\n",
       "      <td>0</td>\n",
       "      <td>1</td>\n",
       "      <td>0</td>\n",
       "      <td>0</td>\n",
       "      <td>0</td>\n",
       "      <td>0</td>\n",
       "      <td>1</td>\n",
       "      <td>0</td>\n",
       "      <td>0</td>\n",
       "    </tr>\n",
       "    <tr>\n",
       "      <th>1</th>\n",
       "      <td>20</td>\n",
       "      <td>80.0</td>\n",
       "      <td>9600</td>\n",
       "      <td>6</td>\n",
       "      <td>8</td>\n",
       "      <td>1976</td>\n",
       "      <td>1976</td>\n",
       "      <td>0.0</td>\n",
       "      <td>978.0</td>\n",
       "      <td>0.0</td>\n",
       "      <td>...</td>\n",
       "      <td>0</td>\n",
       "      <td>0</td>\n",
       "      <td>1</td>\n",
       "      <td>0</td>\n",
       "      <td>0</td>\n",
       "      <td>0</td>\n",
       "      <td>0</td>\n",
       "      <td>1</td>\n",
       "      <td>0</td>\n",
       "      <td>0</td>\n",
       "    </tr>\n",
       "    <tr>\n",
       "      <th>2</th>\n",
       "      <td>60</td>\n",
       "      <td>68.0</td>\n",
       "      <td>11250</td>\n",
       "      <td>7</td>\n",
       "      <td>5</td>\n",
       "      <td>2001</td>\n",
       "      <td>2002</td>\n",
       "      <td>162.0</td>\n",
       "      <td>486.0</td>\n",
       "      <td>0.0</td>\n",
       "      <td>...</td>\n",
       "      <td>0</td>\n",
       "      <td>0</td>\n",
       "      <td>1</td>\n",
       "      <td>0</td>\n",
       "      <td>0</td>\n",
       "      <td>0</td>\n",
       "      <td>0</td>\n",
       "      <td>1</td>\n",
       "      <td>0</td>\n",
       "      <td>0</td>\n",
       "    </tr>\n",
       "    <tr>\n",
       "      <th>3</th>\n",
       "      <td>70</td>\n",
       "      <td>60.0</td>\n",
       "      <td>9550</td>\n",
       "      <td>7</td>\n",
       "      <td>5</td>\n",
       "      <td>1915</td>\n",
       "      <td>1970</td>\n",
       "      <td>0.0</td>\n",
       "      <td>216.0</td>\n",
       "      <td>0.0</td>\n",
       "      <td>...</td>\n",
       "      <td>0</td>\n",
       "      <td>0</td>\n",
       "      <td>1</td>\n",
       "      <td>0</td>\n",
       "      <td>0</td>\n",
       "      <td>0</td>\n",
       "      <td>0</td>\n",
       "      <td>0</td>\n",
       "      <td>0</td>\n",
       "      <td>0</td>\n",
       "    </tr>\n",
       "    <tr>\n",
       "      <th>4</th>\n",
       "      <td>60</td>\n",
       "      <td>84.0</td>\n",
       "      <td>14260</td>\n",
       "      <td>8</td>\n",
       "      <td>5</td>\n",
       "      <td>2000</td>\n",
       "      <td>2000</td>\n",
       "      <td>350.0</td>\n",
       "      <td>655.0</td>\n",
       "      <td>0.0</td>\n",
       "      <td>...</td>\n",
       "      <td>0</td>\n",
       "      <td>0</td>\n",
       "      <td>1</td>\n",
       "      <td>0</td>\n",
       "      <td>0</td>\n",
       "      <td>0</td>\n",
       "      <td>0</td>\n",
       "      <td>1</td>\n",
       "      <td>0</td>\n",
       "      <td>0</td>\n",
       "    </tr>\n",
       "  </tbody>\n",
       "</table>\n",
       "<p>5 rows × 271 columns</p>\n",
       "</div>"
      ],
      "text/plain": [
       "   MSSubClass  LotFrontage  LotArea  OverallQual  OverallCond  YearBuilt  \\\n",
       "0          60         65.0     8450            7            5       2003   \n",
       "1          20         80.0     9600            6            8       1976   \n",
       "2          60         68.0    11250            7            5       2001   \n",
       "3          70         60.0     9550            7            5       1915   \n",
       "4          60         84.0    14260            8            5       2000   \n",
       "\n",
       "   YearRemodAdd  MasVnrArea  BsmtFinSF1  BsmtFinSF2  ...  SaleType_New  \\\n",
       "0          2003       196.0       706.0         0.0  ...             0   \n",
       "1          1976         0.0       978.0         0.0  ...             0   \n",
       "2          2002       162.0       486.0         0.0  ...             0   \n",
       "3          1970         0.0       216.0         0.0  ...             0   \n",
       "4          2000       350.0       655.0         0.0  ...             0   \n",
       "\n",
       "   SaleType_Oth  SaleType_WD  SaleType_nan  SaleCondition_AdjLand  \\\n",
       "0             0            1             0                      0   \n",
       "1             0            1             0                      0   \n",
       "2             0            1             0                      0   \n",
       "3             0            1             0                      0   \n",
       "4             0            1             0                      0   \n",
       "\n",
       "   SaleCondition_Alloca  SaleCondition_Family  SaleCondition_Normal  \\\n",
       "0                     0                     0                     1   \n",
       "1                     0                     0                     1   \n",
       "2                     0                     0                     1   \n",
       "3                     0                     0                     0   \n",
       "4                     0                     0                     1   \n",
       "\n",
       "   SaleCondition_Partial  SaleCondition_nan  \n",
       "0                      0                  0  \n",
       "1                      0                  0  \n",
       "2                      0                  0  \n",
       "3                      0                  0  \n",
       "4                      0                  0  \n",
       "\n",
       "[5 rows x 271 columns]"
      ]
     },
     "execution_count": 4,
     "metadata": {},
     "output_type": "execute_result"
    }
   ],
   "source": [
    "data = pd.get_dummies(data, dummy_na=True, drop_first=True)\n",
    "data.drop('Id', axis=1, inplace=True)\n",
    "data.head()"
   ]
  },
  {
   "cell_type": "markdown",
   "metadata": {},
   "source": [
    "## Handling Missing Values:"
   ]
  },
  {
   "cell_type": "code",
   "execution_count": 5,
   "metadata": {},
   "outputs": [
    {
     "data": {
      "text/plain": [
       "False"
      ]
     },
     "execution_count": 5,
     "metadata": {},
     "output_type": "execute_result"
    }
   ],
   "source": [
    "data.fillna(data.median(), inplace=True)\n",
    "columns = data.columns\n",
    "sale_price = data[\"SalePrice\"]\n",
    "data.isnull().values.any()"
   ]
  },
  {
   "cell_type": "code",
   "execution_count": 6,
   "metadata": {},
   "outputs": [
    {
     "data": {
      "text/plain": [
       "Index(['MSSubClass', 'LotFrontage', 'LotArea', 'OverallQual', 'OverallCond',\n",
       "       'YearBuilt', 'YearRemodAdd', 'MasVnrArea', 'BsmtFinSF1', 'BsmtFinSF2',\n",
       "       ...\n",
       "       'SaleType_New', 'SaleType_Oth', 'SaleType_WD', 'SaleType_nan',\n",
       "       'SaleCondition_AdjLand', 'SaleCondition_Alloca', 'SaleCondition_Family',\n",
       "       'SaleCondition_Normal', 'SaleCondition_Partial', 'SaleCondition_nan'],\n",
       "      dtype='object', length=271)"
      ]
     },
     "execution_count": 6,
     "metadata": {},
     "output_type": "execute_result"
    }
   ],
   "source": [
    "data.columns"
   ]
  },
  {
   "cell_type": "markdown",
   "metadata": {},
   "source": [
    "## Handling the Outliers\n"
   ]
  },
  {
   "cell_type": "code",
   "execution_count": 7,
   "metadata": {},
   "outputs": [],
   "source": [
    "outliers = data[\n",
    "    (data['GrLivArea'] > 4000) &\n",
    "    (data['SalePrice'] < 300000)&\n",
    "    (data['LotArea'] > 100000) &\n",
    "    (data['TotalBsmtSF'] > 3000) &\n",
    "    (data['1stFlrSF'] > 2500)]\n",
    "\n",
    "data.drop(outliers.index, inplace=True)"
   ]
  },
  {
   "cell_type": "markdown",
   "metadata": {},
   "source": [
    "## Scaling the dataset"
   ]
  },
  {
   "cell_type": "code",
   "execution_count": 8,
   "metadata": {},
   "outputs": [
    {
     "data": {
      "text/html": [
       "<div>\n",
       "<style scoped>\n",
       "    .dataframe tbody tr th:only-of-type {\n",
       "        vertical-align: middle;\n",
       "    }\n",
       "\n",
       "    .dataframe tbody tr th {\n",
       "        vertical-align: top;\n",
       "    }\n",
       "\n",
       "    .dataframe thead th {\n",
       "        text-align: right;\n",
       "    }\n",
       "</style>\n",
       "<table border=\"1\" class=\"dataframe\">\n",
       "  <thead>\n",
       "    <tr style=\"text-align: right;\">\n",
       "      <th></th>\n",
       "      <th>MSSubClass</th>\n",
       "      <th>LotFrontage</th>\n",
       "      <th>LotArea</th>\n",
       "      <th>OverallQual</th>\n",
       "      <th>OverallCond</th>\n",
       "      <th>YearBuilt</th>\n",
       "      <th>YearRemodAdd</th>\n",
       "      <th>MasVnrArea</th>\n",
       "      <th>BsmtFinSF1</th>\n",
       "      <th>BsmtFinSF2</th>\n",
       "      <th>...</th>\n",
       "      <th>SaleType_New</th>\n",
       "      <th>SaleType_Oth</th>\n",
       "      <th>SaleType_WD</th>\n",
       "      <th>SaleType_nan</th>\n",
       "      <th>SaleCondition_AdjLand</th>\n",
       "      <th>SaleCondition_Alloca</th>\n",
       "      <th>SaleCondition_Family</th>\n",
       "      <th>SaleCondition_Normal</th>\n",
       "      <th>SaleCondition_Partial</th>\n",
       "      <th>SaleCondition_nan</th>\n",
       "    </tr>\n",
       "  </thead>\n",
       "  <tbody>\n",
       "    <tr>\n",
       "      <th>0</th>\n",
       "      <td>0.067331</td>\n",
       "      <td>-0.191815</td>\n",
       "      <td>-0.217879</td>\n",
       "      <td>0.646183</td>\n",
       "      <td>-0.507284</td>\n",
       "      <td>1.046258</td>\n",
       "      <td>0.896833</td>\n",
       "      <td>0.529034</td>\n",
       "      <td>0.580959</td>\n",
       "      <td>-0.293025</td>\n",
       "      <td>...</td>\n",
       "      <td>-0.298629</td>\n",
       "      <td>-0.049029</td>\n",
       "      <td>0.395018</td>\n",
       "      <td>-0.018512</td>\n",
       "      <td>-0.064249</td>\n",
       "      <td>-0.09105</td>\n",
       "      <td>-0.126535</td>\n",
       "      <td>0.463937</td>\n",
       "      <td>-0.302693</td>\n",
       "      <td>0.0</td>\n",
       "    </tr>\n",
       "    <tr>\n",
       "      <th>1</th>\n",
       "      <td>-0.873616</td>\n",
       "      <td>0.511940</td>\n",
       "      <td>-0.072044</td>\n",
       "      <td>-0.063185</td>\n",
       "      <td>2.188279</td>\n",
       "      <td>0.154764</td>\n",
       "      <td>-0.395604</td>\n",
       "      <td>-0.567016</td>\n",
       "      <td>1.178162</td>\n",
       "      <td>-0.293025</td>\n",
       "      <td>...</td>\n",
       "      <td>-0.298629</td>\n",
       "      <td>-0.049029</td>\n",
       "      <td>0.395018</td>\n",
       "      <td>-0.018512</td>\n",
       "      <td>-0.064249</td>\n",
       "      <td>-0.09105</td>\n",
       "      <td>-0.126535</td>\n",
       "      <td>0.463937</td>\n",
       "      <td>-0.302693</td>\n",
       "      <td>0.0</td>\n",
       "    </tr>\n",
       "    <tr>\n",
       "      <th>2</th>\n",
       "      <td>0.067331</td>\n",
       "      <td>-0.051064</td>\n",
       "      <td>0.137197</td>\n",
       "      <td>0.646183</td>\n",
       "      <td>-0.507284</td>\n",
       "      <td>0.980221</td>\n",
       "      <td>0.848965</td>\n",
       "      <td>0.338903</td>\n",
       "      <td>0.097928</td>\n",
       "      <td>-0.293025</td>\n",
       "      <td>...</td>\n",
       "      <td>-0.298629</td>\n",
       "      <td>-0.049029</td>\n",
       "      <td>0.395018</td>\n",
       "      <td>-0.018512</td>\n",
       "      <td>-0.064249</td>\n",
       "      <td>-0.09105</td>\n",
       "      <td>-0.126535</td>\n",
       "      <td>0.463937</td>\n",
       "      <td>-0.302693</td>\n",
       "      <td>0.0</td>\n",
       "    </tr>\n",
       "    <tr>\n",
       "      <th>3</th>\n",
       "      <td>0.302568</td>\n",
       "      <td>-0.426400</td>\n",
       "      <td>-0.078385</td>\n",
       "      <td>0.646183</td>\n",
       "      <td>-0.507284</td>\n",
       "      <td>-1.859351</td>\n",
       "      <td>-0.682812</td>\n",
       "      <td>-0.567016</td>\n",
       "      <td>-0.494884</td>\n",
       "      <td>-0.293025</td>\n",
       "      <td>...</td>\n",
       "      <td>-0.298629</td>\n",
       "      <td>-0.049029</td>\n",
       "      <td>0.395018</td>\n",
       "      <td>-0.018512</td>\n",
       "      <td>-0.064249</td>\n",
       "      <td>-0.09105</td>\n",
       "      <td>-0.126535</td>\n",
       "      <td>-2.155466</td>\n",
       "      <td>-0.302693</td>\n",
       "      <td>0.0</td>\n",
       "    </tr>\n",
       "    <tr>\n",
       "      <th>4</th>\n",
       "      <td>0.067331</td>\n",
       "      <td>0.699608</td>\n",
       "      <td>0.518903</td>\n",
       "      <td>1.355551</td>\n",
       "      <td>-0.507284</td>\n",
       "      <td>0.947203</td>\n",
       "      <td>0.753229</td>\n",
       "      <td>1.390216</td>\n",
       "      <td>0.468984</td>\n",
       "      <td>-0.293025</td>\n",
       "      <td>...</td>\n",
       "      <td>-0.298629</td>\n",
       "      <td>-0.049029</td>\n",
       "      <td>0.395018</td>\n",
       "      <td>-0.018512</td>\n",
       "      <td>-0.064249</td>\n",
       "      <td>-0.09105</td>\n",
       "      <td>-0.126535</td>\n",
       "      <td>0.463937</td>\n",
       "      <td>-0.302693</td>\n",
       "      <td>0.0</td>\n",
       "    </tr>\n",
       "  </tbody>\n",
       "</table>\n",
       "<p>5 rows × 271 columns</p>\n",
       "</div>"
      ],
      "text/plain": [
       "   MSSubClass  LotFrontage   LotArea  OverallQual  OverallCond  YearBuilt  \\\n",
       "0    0.067331    -0.191815 -0.217879     0.646183    -0.507284   1.046258   \n",
       "1   -0.873616     0.511940 -0.072044    -0.063185     2.188279   0.154764   \n",
       "2    0.067331    -0.051064  0.137197     0.646183    -0.507284   0.980221   \n",
       "3    0.302568    -0.426400 -0.078385     0.646183    -0.507284  -1.859351   \n",
       "4    0.067331     0.699608  0.518903     1.355551    -0.507284   0.947203   \n",
       "\n",
       "   YearRemodAdd  MasVnrArea  BsmtFinSF1  BsmtFinSF2  ...  SaleType_New  \\\n",
       "0      0.896833    0.529034    0.580959   -0.293025  ...     -0.298629   \n",
       "1     -0.395604   -0.567016    1.178162   -0.293025  ...     -0.298629   \n",
       "2      0.848965    0.338903    0.097928   -0.293025  ...     -0.298629   \n",
       "3     -0.682812   -0.567016   -0.494884   -0.293025  ...     -0.298629   \n",
       "4      0.753229    1.390216    0.468984   -0.293025  ...     -0.298629   \n",
       "\n",
       "   SaleType_Oth  SaleType_WD  SaleType_nan  SaleCondition_AdjLand  \\\n",
       "0     -0.049029     0.395018     -0.018512              -0.064249   \n",
       "1     -0.049029     0.395018     -0.018512              -0.064249   \n",
       "2     -0.049029     0.395018     -0.018512              -0.064249   \n",
       "3     -0.049029     0.395018     -0.018512              -0.064249   \n",
       "4     -0.049029     0.395018     -0.018512              -0.064249   \n",
       "\n",
       "   SaleCondition_Alloca  SaleCondition_Family  SaleCondition_Normal  \\\n",
       "0              -0.09105             -0.126535              0.463937   \n",
       "1              -0.09105             -0.126535              0.463937   \n",
       "2              -0.09105             -0.126535              0.463937   \n",
       "3              -0.09105             -0.126535             -2.155466   \n",
       "4              -0.09105             -0.126535              0.463937   \n",
       "\n",
       "   SaleCondition_Partial  SaleCondition_nan  \n",
       "0              -0.302693                0.0  \n",
       "1              -0.302693                0.0  \n",
       "2              -0.302693                0.0  \n",
       "3              -0.302693                0.0  \n",
       "4              -0.302693                0.0  \n",
       "\n",
       "[5 rows x 271 columns]"
      ]
     },
     "execution_count": 8,
     "metadata": {},
     "output_type": "execute_result"
    }
   ],
   "source": [
    "scaler = StandardScaler()\n",
    "data = pd.DataFrame(scaler.fit_transform(data), columns = columns)\n",
    "data['SalePrice'] = sale_price\n",
    "data.head()"
   ]
  },
  {
   "cell_type": "code",
   "execution_count": 9,
   "metadata": {},
   "outputs": [
    {
     "data": {
      "text/plain": [
       "(2919, 271)"
      ]
     },
     "execution_count": 9,
     "metadata": {},
     "output_type": "execute_result"
    }
   ],
   "source": [
    "data.shape"
   ]
  },
  {
   "cell_type": "code",
   "execution_count": 10,
   "metadata": {},
   "outputs": [
    {
     "data": {
      "text/plain": [
       "0       208500.0\n",
       "1       181500.0\n",
       "2       223500.0\n",
       "3       140000.0\n",
       "4       250000.0\n",
       "          ...   \n",
       "2914    163000.0\n",
       "2915    163000.0\n",
       "2916    163000.0\n",
       "2917    163000.0\n",
       "2918    163000.0\n",
       "Name: SalePrice, Length: 2919, dtype: float64"
      ]
     },
     "execution_count": 10,
     "metadata": {},
     "output_type": "execute_result"
    }
   ],
   "source": [
    "data.SalePrice"
   ]
  },
  {
   "cell_type": "markdown",
   "metadata": {},
   "source": [
    "## Dividing the data into train and test data"
   ]
  },
  {
   "cell_type": "code",
   "execution_count": 11,
   "metadata": {},
   "outputs": [],
   "source": [
    "train = data.iloc[:1460]; \n",
    "test = data.iloc[1460:];\n",
    "test.drop('SalePrice', axis=1, inplace=True)"
   ]
  },
  {
   "cell_type": "markdown",
   "metadata": {},
   "source": [
    "## Splitting and transforming data"
   ]
  },
  {
   "cell_type": "code",
   "execution_count": 12,
   "metadata": {},
   "outputs": [],
   "source": [
    "X_train, X_val, y_train, y_val = train_test_split(train.drop('SalePrice', axis=1), train['SalePrice'], test_size=0.25, random_state=42)"
   ]
  },
  {
   "cell_type": "markdown",
   "metadata": {},
   "source": [
    "## Creating tensors "
   ]
  },
  {
   "cell_type": "code",
   "execution_count": 13,
   "metadata": {},
   "outputs": [],
   "source": [
    "train_batch = np.array_split(X_train, 100)\n",
    "label_batch = np.array_split(y_train, 100)"
   ]
  },
  {
   "cell_type": "code",
   "execution_count": 14,
   "metadata": {},
   "outputs": [],
   "source": [
    "for i in range(len(train_batch)):\n",
    "    train_batch[i] = torch.from_numpy(train_batch[i].values).float()\n",
    "for i in range(len(label_batch)):\n",
    "    label_batch[i] = torch.from_numpy(label_batch[i].values).float().view(-1, 1)\n",
    "\n",
    "X_val = torch.from_numpy(X_val.values).float()\n",
    "y_val = torch.from_numpy(y_val.values).float().view(-1, 1)"
   ]
  },
  {
   "cell_type": "code",
   "execution_count": 15,
   "metadata": {},
   "outputs": [
    {
     "data": {
      "text/plain": [
       "(1095, 270)"
      ]
     },
     "execution_count": 15,
     "metadata": {},
     "output_type": "execute_result"
    }
   ],
   "source": [
    "X_train.shape"
   ]
  },
  {
   "cell_type": "markdown",
   "metadata": {},
   "source": [
    "## Model"
   ]
  },
  {
   "cell_type": "code",
   "execution_count": 16,
   "metadata": {},
   "outputs": [],
   "source": [
    "model = nn.Sequential(nn.Linear(270,102),\n",
    "                      nn.LeakyReLU(),\n",
    "                      nn.Dropout(0.5),\n",
    "                      nn.Linear(102,50),\n",
    "                      nn.LeakyReLU(),\n",
    "                      nn.Dropout(0.5),\n",
    "                      nn.Linear(50,1),\n",
    "                      nn.LeakyReLU()\n",
    ")\n",
    "\n",
    "\n",
    "#criterion = nn.MSELoss()\n",
    "criterion = nn.SmoothL1Loss()\n",
    "optimizer = optim.Adam(model.parameters(), lr=0.01)"
   ]
  },
  {
   "cell_type": "code",
   "execution_count": 17,
   "metadata": {},
   "outputs": [
    {
     "data": {
      "text/plain": [
       "Sequential(\n",
       "  (0): Linear(in_features=270, out_features=102, bias=True)\n",
       "  (1): LeakyReLU(negative_slope=0.01)\n",
       "  (2): Dropout(p=0.5, inplace=False)\n",
       "  (3): Linear(in_features=102, out_features=50, bias=True)\n",
       "  (4): LeakyReLU(negative_slope=0.01)\n",
       "  (5): Dropout(p=0.5, inplace=False)\n",
       "  (6): Linear(in_features=50, out_features=1, bias=True)\n",
       "  (7): LeakyReLU(negative_slope=0.01)\n",
       ")"
      ]
     },
     "execution_count": 17,
     "metadata": {},
     "output_type": "execute_result"
    }
   ],
   "source": [
    "model"
   ]
  },
  {
   "cell_type": "code",
   "execution_count": 18,
   "metadata": {},
   "outputs": [
    {
     "data": {
      "text/plain": [
       "torch.Size([11, 1])"
      ]
     },
     "execution_count": 18,
     "metadata": {},
     "output_type": "execute_result"
    }
   ],
   "source": [
    "ps = model(train_batch[0])\n",
    "ps.shape"
   ]
  },
  {
   "cell_type": "markdown",
   "metadata": {},
   "source": [
    "## Training "
   ]
  },
  {
   "cell_type": "code",
   "execution_count": 19,
   "metadata": {},
   "outputs": [
    {
     "name": "stdout",
     "output_type": "stream",
     "text": [
      "Epoch: 1/100..  Training Loss: 409.051..  Test Loss: 333.401.. \n",
      "Validation loss decreased (inf --> 333.401154).  Saving model ...\n",
      "Epoch: 2/100..  Training Loss: 265.441..  Test Loss: 229.020.. \n",
      "Validation loss decreased (333.401154 --> 229.020355).  Saving model ...\n",
      "Epoch: 3/100..  Training Loss: 240.131..  Test Loss: 207.942.. \n",
      "Validation loss decreased (229.020355 --> 207.941650).  Saving model ...\n",
      "Epoch: 4/100..  Training Loss: 232.049..  Test Loss: 204.791.. \n",
      "Validation loss decreased (207.941650 --> 204.790588).  Saving model ...\n",
      "Epoch: 5/100..  Training Loss: 229.851..  Test Loss: 197.065.. \n",
      "Validation loss decreased (204.790588 --> 197.065079).  Saving model ...\n",
      "Epoch: 6/100..  Training Loss: 223.029..  Test Loss: 194.432.. \n",
      "Validation loss decreased (197.065079 --> 194.431900).  Saving model ...\n",
      "Epoch: 7/100..  Training Loss: 220.250..  Test Loss: 191.439.. \n",
      "Validation loss decreased (194.431900 --> 191.439133).  Saving model ...\n",
      "Epoch: 8/100..  Training Loss: 216.684..  Test Loss: 189.629.. \n",
      "Validation loss decreased (191.439133 --> 189.629456).  Saving model ...\n",
      "Epoch: 9/100..  Training Loss: 215.249..  Test Loss: 186.275.. \n",
      "Validation loss decreased (189.629456 --> 186.274689).  Saving model ...\n",
      "Epoch: 10/100..  Training Loss: 214.245..  Test Loss: 185.756.. \n",
      "Validation loss decreased (186.274689 --> 185.755600).  Saving model ...\n",
      "Epoch: 11/100..  Training Loss: 215.700..  Test Loss: 188.200.. \n",
      "Epoch: 12/100..  Training Loss: 210.571..  Test Loss: 185.480.. \n",
      "Validation loss decreased (185.755600 --> 185.480392).  Saving model ...\n",
      "Epoch: 13/100..  Training Loss: 211.400..  Test Loss: 178.997.. \n",
      "Validation loss decreased (185.480392 --> 178.996689).  Saving model ...\n",
      "Epoch: 14/100..  Training Loss: 210.063..  Test Loss: 178.437.. \n",
      "Validation loss decreased (178.996689 --> 178.437454).  Saving model ...\n",
      "Epoch: 15/100..  Training Loss: 205.917..  Test Loss: 174.468.. \n",
      "Validation loss decreased (178.437454 --> 174.467621).  Saving model ...\n",
      "Epoch: 16/100..  Training Loss: 204.894..  Test Loss: 173.618.. \n",
      "Validation loss decreased (174.467621 --> 173.617966).  Saving model ...\n",
      "Epoch: 17/100..  Training Loss: 198.982..  Test Loss: 171.148.. \n",
      "Validation loss decreased (173.617966 --> 171.148026).  Saving model ...\n",
      "Epoch: 18/100..  Training Loss: 202.915..  Test Loss: 175.551.. \n",
      "Epoch: 19/100..  Training Loss: 205.149..  Test Loss: 177.164.. \n",
      "Epoch: 20/100..  Training Loss: 199.579..  Test Loss: 170.829.. \n",
      "Validation loss decreased (171.148026 --> 170.829102).  Saving model ...\n",
      "Epoch: 21/100..  Training Loss: 204.283..  Test Loss: 176.999.. \n",
      "Epoch: 22/100..  Training Loss: 198.882..  Test Loss: 172.114.. \n",
      "Epoch: 23/100..  Training Loss: 201.414..  Test Loss: 168.284.. \n",
      "Validation loss decreased (170.829102 --> 168.284302).  Saving model ...\n",
      "Epoch: 24/100..  Training Loss: 200.012..  Test Loss: 170.180.. \n",
      "Epoch: 25/100..  Training Loss: 198.876..  Test Loss: 165.458.. \n",
      "Validation loss decreased (168.284302 --> 165.458450).  Saving model ...\n",
      "Epoch: 26/100..  Training Loss: 194.646..  Test Loss: 169.930.. \n",
      "Epoch: 27/100..  Training Loss: 195.178..  Test Loss: 170.475.. \n",
      "Epoch: 28/100..  Training Loss: 194.958..  Test Loss: 171.728.. \n",
      "Epoch: 29/100..  Training Loss: 195.921..  Test Loss: 166.505.. \n",
      "Epoch: 30/100..  Training Loss: 195.120..  Test Loss: 163.636.. \n",
      "Validation loss decreased (165.458450 --> 163.635681).  Saving model ...\n",
      "Epoch: 31/100..  Training Loss: 192.787..  Test Loss: 173.014.. \n",
      "Epoch: 32/100..  Training Loss: 199.152..  Test Loss: 165.329.. \n",
      "Epoch: 33/100..  Training Loss: 192.903..  Test Loss: 166.881.. \n",
      "Epoch: 34/100..  Training Loss: 194.822..  Test Loss: 165.857.. \n",
      "Epoch: 35/100..  Training Loss: 197.027..  Test Loss: 166.835.. \n",
      "Epoch: 36/100..  Training Loss: 193.984..  Test Loss: 174.867.. \n",
      "Epoch: 37/100..  Training Loss: 195.952..  Test Loss: 166.563.. \n",
      "Epoch: 38/100..  Training Loss: 192.274..  Test Loss: 164.325.. \n",
      "Epoch: 39/100..  Training Loss: 192.254..  Test Loss: 171.443.. \n",
      "Epoch: 40/100..  Training Loss: 194.485..  Test Loss: 165.214.. \n",
      "Epoch: 41/100..  Training Loss: 194.576..  Test Loss: 167.578.. \n",
      "Epoch: 42/100..  Training Loss: 190.583..  Test Loss: 165.738.. \n",
      "Epoch: 43/100..  Training Loss: 189.929..  Test Loss: 166.145.. \n",
      "Epoch: 44/100..  Training Loss: 190.089..  Test Loss: 165.233.. \n",
      "Epoch: 45/100..  Training Loss: 191.039..  Test Loss: 165.504.. \n",
      "Epoch: 46/100..  Training Loss: 186.422..  Test Loss: 160.875.. \n",
      "Validation loss decreased (163.635681 --> 160.875031).  Saving model ...\n",
      "Epoch: 47/100..  Training Loss: 187.458..  Test Loss: 168.905.. \n",
      "Epoch: 48/100..  Training Loss: 191.193..  Test Loss: 165.923.. \n",
      "Epoch: 49/100..  Training Loss: 183.435..  Test Loss: 163.240.. \n",
      "Epoch: 50/100..  Training Loss: 190.226..  Test Loss: 161.794.. \n",
      "Epoch: 51/100..  Training Loss: 188.120..  Test Loss: 164.553.. \n",
      "Epoch: 52/100..  Training Loss: 190.426..  Test Loss: 160.202.. \n",
      "Validation loss decreased (160.875031 --> 160.201538).  Saving model ...\n",
      "Epoch: 53/100..  Training Loss: 191.668..  Test Loss: 162.071.. \n",
      "Epoch: 54/100..  Training Loss: 191.422..  Test Loss: 166.379.. \n",
      "Epoch: 55/100..  Training Loss: 189.412..  Test Loss: 160.291.. \n",
      "Epoch: 56/100..  Training Loss: 186.269..  Test Loss: 163.718.. \n",
      "Epoch: 57/100..  Training Loss: 188.810..  Test Loss: 163.460.. \n",
      "Epoch: 58/100..  Training Loss: 186.648..  Test Loss: 162.233.. \n",
      "Epoch: 59/100..  Training Loss: 189.397..  Test Loss: 168.899.. \n",
      "Epoch: 60/100..  Training Loss: 188.664..  Test Loss: 165.559.. \n",
      "Epoch: 61/100..  Training Loss: 185.586..  Test Loss: 159.850.. \n",
      "Validation loss decreased (160.201538 --> 159.849701).  Saving model ...\n",
      "Epoch: 62/100..  Training Loss: 187.517..  Test Loss: 162.393.. \n",
      "Epoch: 63/100..  Training Loss: 183.449..  Test Loss: 168.574.. \n",
      "Epoch: 64/100..  Training Loss: 186.795..  Test Loss: 163.999.. \n",
      "Epoch: 65/100..  Training Loss: 185.243..  Test Loss: 169.613.. \n",
      "Epoch: 66/100..  Training Loss: 186.466..  Test Loss: 164.580.. \n",
      "Epoch: 67/100..  Training Loss: 188.185..  Test Loss: 165.640.. \n",
      "Epoch: 68/100..  Training Loss: 185.971..  Test Loss: 165.748.. \n",
      "Epoch: 69/100..  Training Loss: 187.890..  Test Loss: 161.644.. \n",
      "Epoch: 70/100..  Training Loss: 183.251..  Test Loss: 159.780.. \n",
      "Validation loss decreased (159.849701 --> 159.780319).  Saving model ...\n",
      "Epoch: 71/100..  Training Loss: 187.896..  Test Loss: 165.160.. \n",
      "Epoch: 72/100..  Training Loss: 183.859..  Test Loss: 162.643.. \n",
      "Epoch: 73/100..  Training Loss: 186.429..  Test Loss: 162.163.. \n",
      "Epoch: 74/100..  Training Loss: 187.395..  Test Loss: 158.903.. \n",
      "Validation loss decreased (159.780319 --> 158.903320).  Saving model ...\n",
      "Epoch: 75/100..  Training Loss: 181.977..  Test Loss: 158.137.. \n",
      "Validation loss decreased (158.903320 --> 158.136612).  Saving model ...\n",
      "Epoch: 76/100..  Training Loss: 183.946..  Test Loss: 159.335.. \n",
      "Epoch: 77/100..  Training Loss: 184.723..  Test Loss: 160.536.. \n",
      "Epoch: 78/100..  Training Loss: 185.596..  Test Loss: 160.337.. \n",
      "Epoch: 79/100..  Training Loss: 186.050..  Test Loss: 164.858.. \n",
      "Epoch: 80/100..  Training Loss: 180.837..  Test Loss: 157.937.. \n",
      "Validation loss decreased (158.136612 --> 157.936584).  Saving model ...\n",
      "Epoch: 81/100..  Training Loss: 186.430..  Test Loss: 156.545.. \n",
      "Validation loss decreased (157.936584 --> 156.544968).  Saving model ...\n",
      "Epoch: 82/100..  Training Loss: 182.994..  Test Loss: 161.568.. \n",
      "Epoch: 83/100..  Training Loss: 186.702..  Test Loss: 159.203.. \n",
      "Epoch: 84/100..  Training Loss: 181.111..  Test Loss: 157.823.. \n",
      "Epoch: 85/100..  Training Loss: 188.129..  Test Loss: 163.811.. \n",
      "Epoch: 86/100..  Training Loss: 183.150..  Test Loss: 158.858.. \n",
      "Epoch: 87/100..  Training Loss: 179.091..  Test Loss: 157.842.. \n",
      "Epoch: 88/100..  Training Loss: 180.376..  Test Loss: 159.053.. \n",
      "Epoch: 89/100..  Training Loss: 181.847..  Test Loss: 161.812.. \n",
      "Epoch: 90/100..  Training Loss: 182.946..  Test Loss: 160.383.. \n",
      "Epoch: 91/100..  Training Loss: 179.565..  Test Loss: 161.624.. \n",
      "Epoch: 92/100..  Training Loss: 181.211..  Test Loss: 158.483.. \n",
      "Epoch: 93/100..  Training Loss: 184.969..  Test Loss: 159.308.. \n",
      "Epoch: 94/100..  Training Loss: 179.108..  Test Loss: 164.534.. \n",
      "Epoch: 95/100..  Training Loss: 184.498..  Test Loss: 160.740.. \n",
      "Epoch: 96/100..  Training Loss: 179.457..  Test Loss: 157.820.. \n",
      "Epoch: 97/100..  Training Loss: 183.022..  Test Loss: 163.126.. \n",
      "Epoch: 98/100..  Training Loss: 181.016..  Test Loss: 155.636.. \n",
      "Validation loss decreased (156.544968 --> 155.636185).  Saving model ...\n",
      "Epoch: 99/100..  Training Loss: 182.452..  Test Loss: 154.442.. \n",
      "Validation loss decreased (155.636185 --> 154.441986).  Saving model ...\n",
      "Epoch: 100/100..  Training Loss: 180.177..  Test Loss: 158.100.. \n"
     ]
    }
   ],
   "source": [
    "epochs = 100\n",
    "test_loss_min = np.Inf\n",
    "train_losses, test_losses = [], []\n",
    "for e in range(epochs):\n",
    "    model.train()\n",
    "    train_loss = 0\n",
    "    for i in range(len(train_batch)):\n",
    "        optimizer.zero_grad()\n",
    "        output = model(train_batch[i])\n",
    "        loss = torch.sqrt(criterion(output, label_batch[i]))\n",
    "        loss.backward()\n",
    "        optimizer.step()\n",
    "        \n",
    "        train_loss += loss.item()\n",
    "        \n",
    "    else:\n",
    "        test_loss = 0\n",
    "        accuracy = 0\n",
    "        \n",
    "        with torch.no_grad():\n",
    "            model.eval()\n",
    "            predictions = model(X_val)\n",
    "            test_loss += torch.sqrt(criterion(predictions, y_val))\n",
    "                \n",
    "        train_losses.append(train_loss/len(train_batch))\n",
    "        test_losses.append(test_loss)\n",
    "\n",
    "        print(\"Epoch: {}/{}.. \".format(e+1, epochs),\n",
    "              \"Training Loss: {:.3f}.. \".format(train_loss/len(train_batch)),\n",
    "              \"Test Loss: {:.3f}.. \".format(test_loss))\n",
    "        \n",
    "        if test_loss <= test_loss_min:\n",
    "            print('Validation loss decreased ({:.6f} --> {:.6f}).  Saving model ...'.format(\n",
    "            test_loss_min,\n",
    "            test_loss))\n",
    "            torch.save(model.state_dict(), 'model.pt')\n",
    "            test_loss_min = test_loss"
   ]
  },
  {
   "cell_type": "code",
   "execution_count": 20,
   "metadata": {},
   "outputs": [
    {
     "data": {
      "text/plain": [
       "<matplotlib.legend.Legend at 0x7f10c1b65e50>"
      ]
     },
     "execution_count": 20,
     "metadata": {},
     "output_type": "execute_result"
    },
    {
     "data": {
      "image/png": "[encoded data removed]",
      "text/plain": [
       "<Figure size 432x288 with 1 Axes>"
      ]
     },
     "metadata": {
      "needs_background": "light"
     },
     "output_type": "display_data"
    }
   ],
   "source": [
    "plt.plot(train_losses, label='Training loss')\n",
    "plt.plot(test_losses, label='Validation loss')\n",
    "plt.legend(frameon=False)"
   ]
  },
  {
   "cell_type": "code",
   "execution_count": 21,
   "metadata": {},
   "outputs": [
    {
     "data": {
      "text/plain": [
       "torch.Size([1459, 1])"
      ]
     },
     "execution_count": 21,
     "metadata": {},
     "output_type": "execute_result"
    }
   ],
   "source": [
    "test = torch.from_numpy(test.values).float()\n",
    "model.eval()\n",
    "output = model.forward(test)\n",
    "output.shape"
   ]
  },
  {
   "cell_type": "markdown",
   "metadata": {},
   "source": [
    "# Submission"
   ]
  },
  {
   "cell_type": "code",
   "execution_count": 22,
   "metadata": {},
   "outputs": [],
   "source": [
    "submission = pd.read_csv('data/sample_submission.csv')\n",
    "submission['SalePrice'] = output.detach().numpy()\n",
    "submission.to_csv('submission#10.csv', index=False)"
   ]
  },
  {
   "cell_type": "code",
   "execution_count": 23,
   "metadata": {},
   "outputs": [
    {
     "data": {
      "text/html": [
       "<div>\n",
       "<style scoped>\n",
       "    .dataframe tbody tr th:only-of-type {\n",
       "        vertical-align: middle;\n",
       "    }\n",
       "\n",
       "    .dataframe tbody tr th {\n",
       "        vertical-align: top;\n",
       "    }\n",
       "\n",
       "    .dataframe thead th {\n",
       "        text-align: right;\n",
       "    }\n",
       "</style>\n",
       "<table border=\"1\" class=\"dataframe\">\n",
       "  <thead>\n",
       "    <tr style=\"text-align: right;\">\n",
       "      <th></th>\n",
       "      <th>Id</th>\n",
       "      <th>SalePrice</th>\n",
       "    </tr>\n",
       "  </thead>\n",
       "  <tbody>\n",
       "    <tr>\n",
       "      <th>0</th>\n",
       "      <td>1461</td>\n",
       "      <td>119627.867188</td>\n",
       "    </tr>\n",
       "    <tr>\n",
       "      <th>1</th>\n",
       "      <td>1462</td>\n",
       "      <td>157673.328125</td>\n",
       "    </tr>\n",
       "    <tr>\n",
       "      <th>2</th>\n",
       "      <td>1463</td>\n",
       "      <td>176204.718750</td>\n",
       "    </tr>\n",
       "    <tr>\n",
       "      <th>3</th>\n",
       "      <td>1464</td>\n",
       "      <td>190524.203125</td>\n",
       "    </tr>\n",
       "    <tr>\n",
       "      <th>4</th>\n",
       "      <td>1465</td>\n",
       "      <td>186755.171875</td>\n",
       "    </tr>\n",
       "  </tbody>\n",
       "</table>\n",
       "</div>"
      ],
      "text/plain": [
       "     Id      SalePrice\n",
       "0  1461  119627.867188\n",
       "1  1462  157673.328125\n",
       "2  1463  176204.718750\n",
       "3  1464  190524.203125\n",
       "4  1465  186755.171875"
      ]
     },
     "execution_count": 23,
     "metadata": {},
     "output_type": "execute_result"
    }
   ],
   "source": [
    "submission.head()"
   ]
  }
 ],
 "metadata": {
  "kernelspec": {
   "display_name": "Python 3",
   "language": "python",
   "name": "python3"
  },
  "language_info": {
   "codemirror_mode": {
    "name": "ipython",
    "version": 3
   },
   "file_extension": ".py",
   "mimetype": "text/x-python",
   "name": "python",
   "nbconvert_exporter": "python",
   "pygments_lexer": "ipython3",
   "version": "3.7.4"
  }
 },
 "nbformat": 4,
 "nbformat_minor": 4
}
